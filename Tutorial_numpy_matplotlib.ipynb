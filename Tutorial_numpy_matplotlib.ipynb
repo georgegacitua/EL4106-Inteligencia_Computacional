{
  "nbformat": 4,
  "nbformat_minor": 0,
  "metadata": {
    "colab": {
      "name": "Tutorial_numpy_matplotlib.ipynb",
      "version": "0.3.2",
      "provenance": [],
      "include_colab_link": true
    },
    "kernelspec": {
      "display_name": "Python 3",
      "language": "python",
      "name": "python3"
    }
  },
  "cells": [
    {
      "cell_type": "markdown",
      "metadata": {
        "id": "view-in-github",
        "colab_type": "text"
      },
      "source": [
        "[View in Colaboratory](https://colab.research.google.com/github/georgegacitua/EL4106-Inteligencia_Computacional/blob/master/Tutorial_numpy_matplotlib.ipynb)"
      ]
    },
    {
      "metadata": {
        "id": "QSNPyXImC4Ah",
        "colab_type": "text"
      },
      "cell_type": "markdown",
      "source": [
        "# Tutorial numpy y matplotlib\n",
        "# [Lo esencial en ~20 min]"
      ]
    },
    {
      "metadata": {
        "id": "GUUBuIFXuo-_",
        "colab_type": "code",
        "colab": {
          "resources": {
            "http://localhost:8080/nbextensions/google.colab/files.js": {
              "data": "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",
              "ok": true,
              "headers": [
                [
                  "content-type",
                  "application/javascript"
                ]
              ],
              "status": 200,
              "status_text": ""
            }
          },
          "base_uri": "https://localhost:8080/",
          "height": 72
        },
        "outputId": "250043f7-bb57-4c7f-9c22-87c85fae5bf6"
      },
      "cell_type": "code",
      "source": [
        "\n",
        "from google.colab import files\n",
        "src = list(files.upload().values())[0]"
      ],
      "execution_count": 32,
      "outputs": [
        {
          "output_type": "display_data",
          "data": {
            "text/html": [
              "\n",
              "     <input type=\"file\" id=\"files-88e37b2e-e01a-4aee-a493-b6e80f92b83b\" name=\"files[]\" multiple disabled />\n",
              "     <output id=\"result-88e37b2e-e01a-4aee-a493-b6e80f92b83b\">\n",
              "      Upload widget is only available when the cell has been executed in the\n",
              "      current browser session. Please rerun this cell to enable.\n",
              "      </output>\n",
              "      <script src=\"/nbextensions/google.colab/files.js\"></script> "
            ],
            "text/plain": [
              "<IPython.core.display.HTML object>"
            ]
          },
          "metadata": {
            "tags": []
          }
        },
        {
          "output_type": "stream",
          "text": [
            "Saving batch_generator.py to batch_generator (2).py\n"
          ],
          "name": "stdout"
        }
      ]
    },
    {
      "metadata": {
        "id": "bvRSC2FgvXqV",
        "colab_type": "code",
        "colab": {
          "base_uri": "https://localhost:8080/",
          "height": 51
        },
        "outputId": "8a73bb6f-a72d-4913-b72b-674aa88ac97d"
      },
      "cell_type": "code",
      "source": [
        "!ls\n"
      ],
      "execution_count": 33,
      "outputs": [
        {
          "output_type": "stream",
          "text": [
            "batch_generator (1).py\tbatch_generator.py  sample_data\n",
            "batch_generator (2).py\t__pycache__\n"
          ],
          "name": "stdout"
        }
      ]
    },
    {
      "metadata": {
        "id": "QYS7ruL3C4Al",
        "colab_type": "text"
      },
      "cell_type": "markdown",
      "source": [
        "El objetivo del presente tutorial es ilustrar los conceptos básicos de las librerías numpy y matplotlib para la ciencia de datos y visualización de los mismos.\n",
        "\n",
        "Comenzaremos con Numpy, librería para realizar computación científica en python."
      ]
    },
    {
      "metadata": {
        "id": "dxl_Q0uiC4Ao",
        "colab_type": "code",
        "colab": {
          "base_uri": "https://localhost:8080/",
          "height": 255
        },
        "outputId": "92e75f51-9a2e-464f-c223-29520b1d5db1"
      },
      "cell_type": "code",
      "source": [
        "from __future__ import absolute_import\n",
        "from __future__ import division\n",
        "from __future__ import print_function\n",
        "\n",
        "import numpy as np\n",
        "\n",
        "a = np.array([1, 2, 3])\n",
        "print('Construyendo con listas\\n', a)\n",
        "\n",
        "b = np.arange(1, 10)\n",
        "print('Usando arange\\n', b)\n",
        "\n",
        "c = np.zeros([2,4])\n",
        "print('Usando zeros\\n', c)"
      ],
      "execution_count": 35,
      "outputs": [
        {
          "output_type": "stream",
          "text": [
            "Construyendo con listas\n",
            " [1 2 3]\n",
            "Usando arange\n",
            " [1 2 3 4 5 6 7 8 9]\n",
            "Usando zeros\n",
            " [[[0. 0.]\n",
            "  [0. 0.]\n",
            "  [0. 0.]\n",
            "  [0. 0.]]\n",
            "\n",
            " [[0. 0.]\n",
            "  [0. 0.]\n",
            "  [0. 0.]\n",
            "  [0. 0.]]]\n"
          ],
          "name": "stdout"
        }
      ]
    },
    {
      "metadata": {
        "id": "f-q6RXTzC4A3",
        "colab_type": "text"
      },
      "cell_type": "markdown",
      "source": [
        "Algunas funciones típicas de Numpy:"
      ]
    },
    {
      "metadata": {
        "id": "7jXHBka0C4A4",
        "colab_type": "code",
        "colab": {
          "base_uri": "https://localhost:8080/",
          "height": 204
        },
        "outputId": "96a5a008-1182-4d07-ea9f-9a8694a1efb9"
      },
      "cell_type": "code",
      "source": [
        "a = np.arange(1, 17)\n",
        "b = a.reshape([2, 8])\n",
        "c = a.reshape([4, 4])\n",
        "\n",
        "print(a,'\\n')\n",
        "print(b,'\\n')\n",
        "print(c, '\\n')\n",
        "print(c[0, :])"
      ],
      "execution_count": 38,
      "outputs": [
        {
          "output_type": "stream",
          "text": [
            "[ 1  2  3  4  5  6  7  8  9 10 11 12 13 14 15 16] \n",
            "\n",
            "[[ 1  2  3  4  5  6  7  8]\n",
            " [ 9 10 11 12 13 14 15 16]] \n",
            "\n",
            "[[ 1  2  3  4]\n",
            " [ 5  6  7  8]\n",
            " [ 9 10 11 12]\n",
            " [13 14 15 16]] \n",
            "\n",
            "[1 2 3 4]\n"
          ],
          "name": "stdout"
        }
      ]
    },
    {
      "metadata": {
        "id": "Ts0E9-Y-C4CX",
        "colab_type": "code",
        "colab": {
          "base_uri": "https://localhost:8080/",
          "height": 85
        },
        "outputId": "e7bbe388-270b-4bf5-edec-accdcb99f881"
      },
      "cell_type": "code",
      "source": [
        "lista_de_python = [[1, 2],  [3, 4]]\n",
        "array_de_np = np.array(lista_de_python)\n",
        "\n",
        "print(lista_de_python,'\\n')\n",
        "print(array_de_np)"
      ],
      "execution_count": 39,
      "outputs": [
        {
          "output_type": "stream",
          "text": [
            "[[1, 2], [3, 4]] \n",
            "\n",
            "[[1 2]\n",
            " [3 4]]\n"
          ],
          "name": "stdout"
        }
      ]
    },
    {
      "metadata": {
        "id": "aUIokJMHC4Cz",
        "colab_type": "code",
        "colab": {
          "base_uri": "https://localhost:8080/",
          "height": 221
        },
        "outputId": "f68712eb-02af-4fc1-9dd8-796b9a8fb16d"
      },
      "cell_type": "code",
      "source": [
        "a = np.arange(128).reshape([1, 128])\n",
        "b = a.reshape([-1, 4, 8, 2])\n",
        "c = a.reshape([1, 1, 128])\n",
        "\n",
        "print(a,'\\n')\n",
        "print(a.shape)\n",
        "print(b.shape)\n",
        "print(c.shape)"
      ],
      "execution_count": 40,
      "outputs": [
        {
          "output_type": "stream",
          "text": [
            "[[  0   1   2   3   4   5   6   7   8   9  10  11  12  13  14  15  16  17\n",
            "   18  19  20  21  22  23  24  25  26  27  28  29  30  31  32  33  34  35\n",
            "   36  37  38  39  40  41  42  43  44  45  46  47  48  49  50  51  52  53\n",
            "   54  55  56  57  58  59  60  61  62  63  64  65  66  67  68  69  70  71\n",
            "   72  73  74  75  76  77  78  79  80  81  82  83  84  85  86  87  88  89\n",
            "   90  91  92  93  94  95  96  97  98  99 100 101 102 103 104 105 106 107\n",
            "  108 109 110 111 112 113 114 115 116 117 118 119 120 121 122 123 124 125\n",
            "  126 127]] \n",
            "\n",
            "(1, 128)\n",
            "(2, 4, 8, 2)\n",
            "(1, 1, 128)\n"
          ],
          "name": "stdout"
        }
      ]
    },
    {
      "metadata": {
        "id": "bQ0Y2Hd1C4DC",
        "colab_type": "text"
      },
      "cell_type": "markdown",
      "source": [
        "Ahora juguemos con matplotlib!"
      ]
    },
    {
      "metadata": {
        "id": "19qxGVX5C4DF",
        "colab_type": "code",
        "colab": {
          "base_uri": "https://localhost:8080/",
          "height": 328
        },
        "outputId": "437adfff-fd81-4bea-f4e1-3408b347aef2"
      },
      "cell_type": "code",
      "source": [
        "import matplotlib.pyplot as plt\n",
        "import matplotlib.cm as cm\n",
        "%matplotlib inline\n",
        "\n",
        "x = np.arange(1000)#.hape([1000,1])\n",
        "y = np.sin(2*np.pi*x/500.)\n",
        "\n",
        "plt.xlabel('Tiempo [s]')\n",
        "plt.ylabel('Posicion [m]')\n",
        "plt.title('Movimiento oscilatorio')\n",
        "\n",
        "plt.plot(x,y,label='sin fn')\n",
        "plt.legend()\n",
        "\n",
        "print(x.shape,'\\n')"
      ],
      "execution_count": 44,
      "outputs": [
        {
          "output_type": "stream",
          "text": [
            "(1000,) \n",
            "\n"
          ],
          "name": "stdout"
        },
        {
          "output_type": "display_data",
          "data": {
            "image/png": "[encoded data removed]",
            "text/plain": [
              "<matplotlib.figure.Figure at 0x7f562875b470>"
            ]
          },
          "metadata": {
            "tags": []
          }
        }
      ]
    },
    {
      "metadata": {
        "id": "xOUCc2p7C4EU",
        "colab_type": "text"
      },
      "cell_type": "markdown",
      "source": [
        "---\n",
        "# Revisitando la Regresión Logística"
      ]
    },
    {
      "metadata": {
        "id": "lSoXfDzvC4EX",
        "colab_type": "text"
      },
      "cell_type": "markdown",
      "source": [
        "## Crear base de datos"
      ]
    },
    {
      "metadata": {
        "id": "Mt3RKk4gC4Eb",
        "colab_type": "code",
        "colab": {
          "base_uri": "https://localhost:8080/",
          "height": 775
        },
        "outputId": "b0668aed-abaf-4697-ff87-191235c7c9dc"
      },
      "cell_type": "code",
      "source": [
        "def simulate_2d_gaussian_data(n_samples, distance, angle, sigma):\n",
        "    mu = np.array([\n",
        "        np.cos(angle)*distance/2,\n",
        "        np.sin(angle)*distance/2\n",
        "    ])\n",
        "    n_samples_per_class = int(n_samples/2)\n",
        "    n_samples = n_samples_per_class * 2\n",
        "    x1 = np.random.randn(n_samples_per_class, 2)*sigma + mu\n",
        "    x2 = np.random.randn(n_samples_per_class, 2)*sigma - mu\n",
        "    \n",
        "    s = [50]*n_samples_per_class\n",
        "    \n",
        "    plt.scatter(x1[:, 0], x1[:, 1], c='yellow', s=s, alpha=0.6)\n",
        "    plt.scatter(x2[:, 0], x2[:, 1], c='green', s=s, alpha=0.6)\n",
        "    plt.show()\n",
        "    \n",
        "    x = np.concatenate([x1, x2], axis=0)\n",
        "    d = np.concatenate([\n",
        "        np.ones(n_samples_per_class),\n",
        "        np.zeros(n_samples_per_class)\n",
        "    ])\n",
        "    \n",
        "    #print(x1,'\\n')\n",
        "    #print(x2,'\\n')\n",
        "    #print(x,'\\n')\n",
        "    \n",
        "    new_order = np.random.permutation(range(n_samples))\n",
        "    x = x[new_order]\n",
        "    d = d[new_order]\n",
        "    print(new_order)\n",
        "    \n",
        "    return x, d\n",
        "\n",
        "X, d = simulate_2d_gaussian_data(500, 1, np.pi/4, 0.5)\n",
        "print(X.shape, d.shape,'\\n')\n",
        "#print(X)\n"
      ],
      "execution_count": 56,
      "outputs": [
        {
          "output_type": "display_data",
          "data": {
            "image/png": "[encoded data removed]",
            "text/plain": [
              "<matplotlib.figure.Figure at 0x7f562829c630>"
            ]
          },
          "metadata": {
            "tags": []
          }
        },
        {
          "output_type": "stream",
          "text": [
            "[149 442 286  37 280 253  55 216 270 426 239 432 396 481 195 310 428 223\n",
            " 347 458 173 348 207 480 176 170 425 392  19 210 192 449 127  60 468 464\n",
            " 179 112 446 136 430 429 418 194 459 274 419  83 433 182  63 297 472 384\n",
            " 134  62 226  49 197   6 417  21 298 388 367  16 350 421  13 309 236 383\n",
            " 415 128 183 479 451 264 399 400 427 189 404  14 132 330  17 469 465 135\n",
            " 460  10 483 381 394 147 362 167 349  40 261 106 455 178 141 221  73 166\n",
            "  69 233 441  95 177 251 440 202 152 318 180 294 164 290 308 243 402 333\n",
            " 265 295 148 255   5 376 471   7 331 466 467 344 316 447 397 184 431 405\n",
            " 250 345  93 408 212 256 306 277 126 278  38  87   3 284 375 393 436 319\n",
            " 209 199 314  12 275 470  43 484  64 150 411 120 142  46  89  31 161 204\n",
            " 248 373 273 196 175 211 260 113 231 139 450  97 312 235 473 478 232 220\n",
            " 410 160  53 266  15  81 146 137 377 276 118 453  58 100 110 111  56 114\n",
            "  54 225  44 332 403 229 131  78 219  36 238 133 337 222  76  22 154 457\n",
            " 168 368 386 143 193 240 303 389 282  51 351 174 364 385 356 163   2 390\n",
            "  41 324  39 165 122 353 107 409 490 237 188 262 271  91 461  57  67  75\n",
            " 352  74 117 292  84 338 307 371 171 454  28 361  98 359 401 358  18 485\n",
            " 187 363 434 123 424 272  25 336 203  80 124 366 355  77 357 206 413 387\n",
            " 492 494 234  50 313 252 321  35 498 315 320 382 482 208 198 217 301 279\n",
            " 439 378  94   0 257 299 476 486 119  29 435 247  71  61 191 339 443 138\n",
            " 302 412 215 259  65 283  11 224 287 493 101  68 420 159 379 155  27 414\n",
            " 311 214 463 354 230 395  70 151 346 365 370 108 125 369 438 343  26 317\n",
            " 497 129 140   9 285 227 109 289 456 406  90 172 296 340 489 304 335 323\n",
            " 245 334 487 325 186 437 269 300  86 495 407   1 329  20  66 474 322 200\n",
            " 360 398 218 380 242  30 116 190 374  72   4 130 104  23 416 328  99 267\n",
            " 496 422  92 327 423 475 452 268 462 241 246  85 228 258 341  47 201 102\n",
            " 121 144   8 288  48  52 291  59 103  88  24 153  32 293 162  34 145 305\n",
            " 263 169 445 244 448 281 499 249 444  42 326 157 115 158 205 342 156 185\n",
            "  33 254 181  96 105 391 488  79 213 477  45 491 372  82]\n",
            "(500, 2) (500,) \n",
            "\n"
          ],
          "name": "stdout"
        }
      ]
    },
    {
      "metadata": {
        "id": "IN2kEId5C4Eo",
        "colab_type": "code",
        "colab": {
          "base_uri": "https://localhost:8080/",
          "height": 543
        },
        "outputId": "cbdbf57a-f2c6-4127-c1c4-688d78faec49"
      },
      "cell_type": "code",
      "source": [
        "X_yellow = X[np.where(d==1)[0],:]\n",
        "X_green = X[np.where(d==0)[0],:]\n",
        "\n",
        "_,_,_=plt.hist(X_green[:,1], bins=50, color='green', alpha=0.6)\n",
        "_,_,_=plt.hist(X_yellow[:,1], bins=50, color='yellow', alpha=0.7)\n",
        "plt.title('Y dim')\n",
        "plt.show()\n",
        "\n",
        "_,_,_=plt.hist(X_green[:,0], bins=50, color='green', alpha=0.6)\n",
        "_,_,_=plt.hist(X_yellow[:,0], bins=50, color='yellow', alpha=0.7)\n",
        "plt.title('X dim')\n",
        "plt.show()"
      ],
      "execution_count": 13,
      "outputs": [
        {
          "output_type": "display_data",
          "data": {
            "image/png": "[encoded data removed]",
            "text/plain": [
              "<matplotlib.figure.Figure at 0x7f562bbc67f0>"
            ]
          },
          "metadata": {
            "tags": []
          }
        },
        {
          "output_type": "display_data",
          "data": {
            "image/png": "[encoded data removed]",
            "text/plain": [
              "<matplotlib.figure.Figure at 0x7f562a243b38>"
            ]
          },
          "metadata": {
            "tags": []
          }
        }
      ]
    },
    {
      "metadata": {
        "id": "fbiIXXAqC4E5",
        "colab_type": "text"
      },
      "cell_type": "markdown",
      "source": [
        "## Definir funciones (modelo, gradiente, costos)"
      ]
    },
    {
      "metadata": {
        "id": "yd5UpRHqC4E8",
        "colab_type": "code",
        "colab": {}
      },
      "cell_type": "code",
      "source": [
        "# Evaluate logistic model for a lot of samples\n",
        "# X.shape = n_samples x 2\n",
        "# W.shape = 2x1\n",
        "def logistic_model(X, W):\n",
        "    out = 1.0/(1 + np.exp(-np.matmul(X, W).flatten()))\n",
        "    # print('log_model', out.shape)\n",
        "    return out\n",
        "\n",
        "# Vectorized version of gradient. Equivalent to the expression from the slides.\n",
        "def gradient(X, d, W):\n",
        "    out = np.matmul(X.T, logistic_model(X, W)-d).reshape([2, 1])\n",
        "    # print('gradient', out.shape)\n",
        "    return out\n",
        "\n",
        "def xentropy(X, d, W):\n",
        "    mu = logistic_model(X, W)\n",
        "    log_argument = np.power(mu, d)*np.power(1-mu, 1-d)\n",
        "    return -np.mean(np.log(log_argument))"
      ],
      "execution_count": 0,
      "outputs": []
    },
    {
      "metadata": {
        "id": "yuVyf8lRC4FP",
        "colab_type": "text"
      },
      "cell_type": "markdown",
      "source": [
        "## Entrenar el modelo"
      ]
    },
    {
      "metadata": {
        "id": "mmS2AImPC4FU",
        "colab_type": "code",
        "colab": {
          "base_uri": "https://localhost:8080/",
          "height": 34
        },
        "outputId": "5662529b-8f47-4d98-f10d-f0427a87d280"
      },
      "cell_type": "code",
      "source": [
        "initial_weights = np.array([[0], [0]])\n",
        "print('Valor inicial de la entropía cruzada: %.3f' % xentropy(X, d, initial_weights))"
      ],
      "execution_count": 16,
      "outputs": [
        {
          "output_type": "stream",
          "text": [
            "Valor inicial de la entropía cruzada: 0.693\n"
          ],
          "name": "stdout"
        }
      ]
    },
    {
      "metadata": {
        "id": "jYr2dL7aC4Fi",
        "colab_type": "code",
        "colab": {
          "base_uri": "https://localhost:8080/",
          "height": 1717
        },
        "outputId": "073c19fa-7ee8-45f4-b5fd-9f58eaf8c0fb"
      },
      "cell_type": "code",
      "source": [
        "learning_rate = 0.005\n",
        "W = initial_weights\n",
        "\n",
        "weight_history = []\n",
        "for iteration in range(100):\n",
        "    W = W - learning_rate * gradient(X, d, W)\n",
        "    weight_history.append(W)\n",
        "    print('[Iteración %d] Entropía cruzada: %.3f' % (iteration, xentropy(X, d, W)))"
      ],
      "execution_count": 17,
      "outputs": [
        {
          "output_type": "stream",
          "text": [
            "[Iteración 0] Entropía cruzada: 0.545\n",
            "[Iteración 1] Entropía cruzada: 0.452\n",
            "[Iteración 2] Entropía cruzada: 0.392\n",
            "[Iteración 3] Entropía cruzada: 0.349\n",
            "[Iteración 4] Entropía cruzada: 0.317\n",
            "[Iteración 5] Entropía cruzada: 0.293\n",
            "[Iteración 6] Entropía cruzada: 0.273\n",
            "[Iteración 7] Entropía cruzada: 0.257\n",
            "[Iteración 8] Entropía cruzada: 0.244\n",
            "[Iteración 9] Entropía cruzada: 0.233\n",
            "[Iteración 10] Entropía cruzada: 0.223\n",
            "[Iteración 11] Entropía cruzada: 0.215\n",
            "[Iteración 12] Entropía cruzada: 0.208\n",
            "[Iteración 13] Entropía cruzada: 0.201\n",
            "[Iteración 14] Entropía cruzada: 0.195\n",
            "[Iteración 15] Entropía cruzada: 0.190\n",
            "[Iteración 16] Entropía cruzada: 0.185\n",
            "[Iteración 17] Entropía cruzada: 0.181\n",
            "[Iteración 18] Entropía cruzada: 0.177\n",
            "[Iteración 19] Entropía cruzada: 0.173\n",
            "[Iteración 20] Entropía cruzada: 0.170\n",
            "[Iteración 21] Entropía cruzada: 0.167\n",
            "[Iteración 22] Entropía cruzada: 0.164\n",
            "[Iteración 23] Entropía cruzada: 0.161\n",
            "[Iteración 24] Entropía cruzada: 0.159\n",
            "[Iteración 25] Entropía cruzada: 0.156\n",
            "[Iteración 26] Entropía cruzada: 0.154\n",
            "[Iteración 27] Entropía cruzada: 0.152\n",
            "[Iteración 28] Entropía cruzada: 0.150\n",
            "[Iteración 29] Entropía cruzada: 0.148\n",
            "[Iteración 30] Entropía cruzada: 0.147\n",
            "[Iteración 31] Entropía cruzada: 0.145\n",
            "[Iteración 32] Entropía cruzada: 0.143\n",
            "[Iteración 33] Entropía cruzada: 0.142\n",
            "[Iteración 34] Entropía cruzada: 0.140\n",
            "[Iteración 35] Entropía cruzada: 0.139\n",
            "[Iteración 36] Entropía cruzada: 0.138\n",
            "[Iteración 37] Entropía cruzada: 0.136\n",
            "[Iteración 38] Entropía cruzada: 0.135\n",
            "[Iteración 39] Entropía cruzada: 0.134\n",
            "[Iteración 40] Entropía cruzada: 0.133\n",
            "[Iteración 41] Entropía cruzada: 0.132\n",
            "[Iteración 42] Entropía cruzada: 0.131\n",
            "[Iteración 43] Entropía cruzada: 0.130\n",
            "[Iteración 44] Entropía cruzada: 0.129\n",
            "[Iteración 45] Entropía cruzada: 0.128\n",
            "[Iteración 46] Entropía cruzada: 0.127\n",
            "[Iteración 47] Entropía cruzada: 0.126\n",
            "[Iteración 48] Entropía cruzada: 0.126\n",
            "[Iteración 49] Entropía cruzada: 0.125\n",
            "[Iteración 50] Entropía cruzada: 0.124\n",
            "[Iteración 51] Entropía cruzada: 0.123\n",
            "[Iteración 52] Entropía cruzada: 0.123\n",
            "[Iteración 53] Entropía cruzada: 0.122\n",
            "[Iteración 54] Entropía cruzada: 0.121\n",
            "[Iteración 55] Entropía cruzada: 0.121\n",
            "[Iteración 56] Entropía cruzada: 0.120\n",
            "[Iteración 57] Entropía cruzada: 0.119\n",
            "[Iteración 58] Entropía cruzada: 0.119\n",
            "[Iteración 59] Entropía cruzada: 0.118\n",
            "[Iteración 60] Entropía cruzada: 0.118\n",
            "[Iteración 61] Entropía cruzada: 0.117\n",
            "[Iteración 62] Entropía cruzada: 0.117\n",
            "[Iteración 63] Entropía cruzada: 0.116\n",
            "[Iteración 64] Entropía cruzada: 0.116\n",
            "[Iteración 65] Entropía cruzada: 0.115\n",
            "[Iteración 66] Entropía cruzada: 0.115\n",
            "[Iteración 67] Entropía cruzada: 0.114\n",
            "[Iteración 68] Entropía cruzada: 0.114\n",
            "[Iteración 69] Entropía cruzada: 0.113\n",
            "[Iteración 70] Entropía cruzada: 0.113\n",
            "[Iteración 71] Entropía cruzada: 0.112\n",
            "[Iteración 72] Entropía cruzada: 0.112\n",
            "[Iteración 73] Entropía cruzada: 0.112\n",
            "[Iteración 74] Entropía cruzada: 0.111\n",
            "[Iteración 75] Entropía cruzada: 0.111\n",
            "[Iteración 76] Entropía cruzada: 0.111\n",
            "[Iteración 77] Entropía cruzada: 0.110\n",
            "[Iteración 78] Entropía cruzada: 0.110\n",
            "[Iteración 79] Entropía cruzada: 0.109\n",
            "[Iteración 80] Entropía cruzada: 0.109\n",
            "[Iteración 81] Entropía cruzada: 0.109\n",
            "[Iteración 82] Entropía cruzada: 0.108\n",
            "[Iteración 83] Entropía cruzada: 0.108\n",
            "[Iteración 84] Entropía cruzada: 0.108\n",
            "[Iteración 85] Entropía cruzada: 0.108\n",
            "[Iteración 86] Entropía cruzada: 0.107\n",
            "[Iteración 87] Entropía cruzada: 0.107\n",
            "[Iteración 88] Entropía cruzada: 0.107\n",
            "[Iteración 89] Entropía cruzada: 0.106\n",
            "[Iteración 90] Entropía cruzada: 0.106\n",
            "[Iteración 91] Entropía cruzada: 0.106\n",
            "[Iteración 92] Entropía cruzada: 0.106\n",
            "[Iteración 93] Entropía cruzada: 0.105\n",
            "[Iteración 94] Entropía cruzada: 0.105\n",
            "[Iteración 95] Entropía cruzada: 0.105\n",
            "[Iteración 96] Entropía cruzada: 0.105\n",
            "[Iteración 97] Entropía cruzada: 0.104\n",
            "[Iteración 98] Entropía cruzada: 0.104\n",
            "[Iteración 99] Entropía cruzada: 0.104\n"
          ],
          "name": "stdout"
        }
      ]
    },
    {
      "metadata": {
        "id": "iqvaO6YBC4GN",
        "colab_type": "text"
      },
      "cell_type": "markdown",
      "source": [
        "## Análisis de resultados"
      ]
    },
    {
      "metadata": {
        "id": "-xYYi8c4C4GT",
        "colab_type": "code",
        "colab": {
          "base_uri": "https://localhost:8080/",
          "height": 68
        },
        "outputId": "d3902f00-0f5a-402c-c997-36f8e7e2fc39"
      },
      "cell_type": "code",
      "source": [
        "print('Valor final de los pesos: ', W)\n",
        "print('Ángulo del vector de pesos', np.arctan(W[1, 0]/W[0, 0])*180/np.pi)"
      ],
      "execution_count": 18,
      "outputs": [
        {
          "output_type": "stream",
          "text": [
            "Valor final de los pesos:  [[4.14857572]\n",
            " [6.76069296]]\n",
            "Ángulo del vector de pesos 58.46540093904621\n"
          ],
          "name": "stdout"
        }
      ]
    },
    {
      "metadata": {
        "id": "rMOre16MC4Gx",
        "colab_type": "code",
        "colab": {
          "base_uri": "https://localhost:8080/",
          "height": 1751
        },
        "outputId": "fc5aa544-5f25-4946-954d-eb99ff1dd006"
      },
      "cell_type": "code",
      "source": [
        "print('Historial de actualización de pesos\\n')\n",
        "for i in range (len(weight_history)):\n",
        "    print(\"%.4f ; %.4f\" % (weight_history[i][0],weight_history[i][1]))"
      ],
      "execution_count": 19,
      "outputs": [
        {
          "output_type": "stream",
          "text": [
            "Historial de actualización de pesos\n",
            "\n",
            "0.3384 ; 0.5496\n",
            "0.6029 ; 0.9810\n",
            "0.8157 ; 1.3292\n",
            "0.9926 ; 1.6194\n",
            "1.1437 ; 1.8678\n",
            "1.2757 ; 2.0851\n",
            "1.3929 ; 2.2784\n",
            "1.4984 ; 2.4526\n",
            "1.5946 ; 2.6114\n",
            "1.6829 ; 2.7572\n",
            "1.7646 ; 2.8923\n",
            "1.8408 ; 3.0181\n",
            "1.9121 ; 3.1360\n",
            "1.9792 ; 3.2469\n",
            "2.0426 ; 3.3516\n",
            "2.1027 ; 3.4509\n",
            "2.1599 ; 3.5453\n",
            "2.2145 ; 3.6353\n",
            "2.2666 ; 3.7213\n",
            "2.3166 ; 3.8038\n",
            "2.3646 ; 3.8829\n",
            "2.4108 ; 3.9590\n",
            "2.4554 ; 4.0323\n",
            "2.4983 ; 4.1030\n",
            "2.5399 ; 4.1713\n",
            "2.5801 ; 4.2374\n",
            "2.6191 ; 4.3014\n",
            "2.6569 ; 4.3635\n",
            "2.6937 ; 4.4237\n",
            "2.7294 ; 4.4822\n",
            "2.7642 ; 4.5392\n",
            "2.7980 ; 4.5946\n",
            "2.8310 ; 4.6486\n",
            "2.8633 ; 4.7012\n",
            "2.8947 ; 4.7525\n",
            "2.9254 ; 4.8026\n",
            "2.9554 ; 4.8516\n",
            "2.9848 ; 4.8994\n",
            "3.0135 ; 4.9462\n",
            "3.0417 ; 4.9920\n",
            "3.0692 ; 5.0368\n",
            "3.0963 ; 5.0807\n",
            "3.1228 ; 5.1238\n",
            "3.1488 ; 5.1659\n",
            "3.1743 ; 5.2073\n",
            "3.1993 ; 5.2479\n",
            "3.2239 ; 5.2878\n",
            "3.2481 ; 5.3269\n",
            "3.2719 ; 5.3653\n",
            "3.2953 ; 5.4031\n",
            "3.3183 ; 5.4402\n",
            "3.3409 ; 5.4767\n",
            "3.3632 ; 5.5126\n",
            "3.3851 ; 5.5480\n",
            "3.4067 ; 5.5827\n",
            "3.4280 ; 5.6170\n",
            "3.4490 ; 5.6507\n",
            "3.4696 ; 5.6839\n",
            "3.4900 ; 5.7166\n",
            "3.5101 ; 5.7488\n",
            "3.5299 ; 5.7805\n",
            "3.5495 ; 5.8119\n",
            "3.5688 ; 5.8427\n",
            "3.5878 ; 5.8732\n",
            "3.6066 ; 5.9032\n",
            "3.6251 ; 5.9329\n",
            "3.6435 ; 5.9621\n",
            "3.6616 ; 5.9910\n",
            "3.6794 ; 6.0195\n",
            "3.6971 ; 6.0477\n",
            "3.7146 ; 6.0755\n",
            "3.7318 ; 6.1029\n",
            "3.7489 ; 6.1300\n",
            "3.7657 ; 6.1568\n",
            "3.7824 ; 6.1833\n",
            "3.7989 ; 6.2095\n",
            "3.8152 ; 6.2354\n",
            "3.8313 ; 6.2609\n",
            "3.8473 ; 6.2862\n",
            "3.8631 ; 6.3112\n",
            "3.8787 ; 6.3360\n",
            "3.8942 ; 6.3604\n",
            "3.9095 ; 6.3846\n",
            "3.9246 ; 6.4086\n",
            "3.9396 ; 6.4323\n",
            "3.9545 ; 6.4557\n",
            "3.9692 ; 6.4789\n",
            "3.9838 ; 6.5019\n",
            "3.9982 ; 6.5246\n",
            "4.0125 ; 6.5471\n",
            "4.0267 ; 6.5694\n",
            "4.0407 ; 6.5915\n",
            "4.0546 ; 6.6133\n",
            "4.0684 ; 6.6350\n",
            "4.0821 ; 6.6564\n",
            "4.0956 ; 6.6777\n",
            "4.1090 ; 6.6987\n",
            "4.1223 ; 6.7196\n",
            "4.1355 ; 6.7402\n",
            "4.1486 ; 6.7607\n"
          ],
          "name": "stdout"
        }
      ]
    },
    {
      "metadata": {
        "id": "tJrXQs88C4HB",
        "colab_type": "text"
      },
      "cell_type": "markdown",
      "source": [
        "### ¿Cómo queda dividido el espacio de los ejemplos?"
      ]
    },
    {
      "metadata": {
        "id": "VbTouSmGC4HD",
        "colab_type": "code",
        "colab": {
          "base_uri": "https://localhost:8080/",
          "height": 283
        },
        "outputId": "01f07bf2-fcf4-48c3-d4de-96d0558bfa34"
      },
      "cell_type": "code",
      "source": [
        "nx = 100\n",
        "ny = 100\n",
        "xx = np.linspace(-2, 2, nx)\n",
        "yy = np.linspace(-2, 2, ny)\n",
        "\n",
        "model_output = np.zeros([nx, ny])\n",
        "for xi in range(nx):\n",
        "    for yi in range(ny):\n",
        "        x1 = xx[xi]\n",
        "        x2 = yy[yi]\n",
        "        model_output[xi, yi] = logistic_model(\n",
        "            np.array([[x1, x2]]), W).flatten()\n",
        "\n",
        "x_mesh, y_mesh = np.meshgrid(xx, yy)\n",
        "plt.contourf(x_mesh, y_mesh, model_output.T, cmap=cm.viridis)\n",
        "plt.scatter(X[:, 0], X[:, 1], c=d, cmap=cm.viridis, alpha=0.5, s=[50]*len(X))\n",
        "plt.xlabel('x1')\n",
        "plt.ylabel('x2')\n",
        "plt.colorbar()\n",
        "plt.show()"
      ],
      "execution_count": 20,
      "outputs": [
        {
          "output_type": "display_data",
          "data": {
            "image/png": "[encoded data removed]",
            "text/plain": [
              "<matplotlib.figure.Figure at 0x7f562a27a518>"
            ]
          },
          "metadata": {
            "tags": []
          }
        }
      ]
    },
    {
      "metadata": {
        "id": "xNzJCnIqC4Hd",
        "colab_type": "text"
      },
      "cell_type": "markdown",
      "source": [
        "### Visualización de los parámetros"
      ]
    },
    {
      "metadata": {
        "id": "iZet4dmoC4Hf",
        "colab_type": "code",
        "colab": {
          "base_uri": "https://localhost:8080/",
          "height": 283
        },
        "outputId": "fc75940d-d30b-4f2a-99e1-10d531ef3382"
      },
      "cell_type": "code",
      "source": [
        "nx = 100\n",
        "ny = 100\n",
        "xx = np.linspace(-3, 10, nx)\n",
        "yy = np.linspace(0, 12, ny)\n",
        "\n",
        "xentropy_values = np.zeros([nx, ny])\n",
        "for xi in range(nx):\n",
        "    for yi in range(ny):\n",
        "        w1 = xx[xi]\n",
        "        w2 = yy[yi]\n",
        "        xentropy_values[xi, yi] = xentropy(\n",
        "            X, \n",
        "            d,\n",
        "            np.array([[w1], [w2]])\n",
        "        )\n",
        "\n",
        "x_mesh, y_mesh = np.meshgrid(xx, yy)\n",
        "plt.contourf(x_mesh, y_mesh, xentropy_values.T, cmap=cm.viridis)\n",
        "plt.plot(W[0, 0], W[1, 0], 'r*', markersize=40)\n",
        "plt.xlabel('w1')\n",
        "plt.ylabel('w2')\n",
        "plt.colorbar()\n",
        "plt.show()"
      ],
      "execution_count": 21,
      "outputs": [
        {
          "output_type": "display_data",
          "data": {
            "image/png": "[encoded data removed]",
            "text/plain": [
              "<matplotlib.figure.Figure at 0x7f562a2c39e8>"
            ]
          },
          "metadata": {
            "tags": []
          }
        }
      ]
    },
    {
      "metadata": {
        "id": "K5VLz9BIC4Hp",
        "colab_type": "text"
      },
      "cell_type": "markdown",
      "source": [
        "### Visualización de la optimización con GD"
      ]
    },
    {
      "metadata": {
        "id": "CERnkSy1C4IT",
        "colab_type": "code",
        "colab": {
          "base_uri": "https://localhost:8080/",
          "height": 283
        },
        "outputId": "35afc853-0bd6-42ee-d020-78f46cc06d47"
      },
      "cell_type": "code",
      "source": [
        "nx = 100\n",
        "ny = 100\n",
        "xx = np.linspace(-1, 7, nx)\n",
        "yy = np.linspace(-1, 7, ny)\n",
        "\n",
        "xentropy_values = np.zeros([nx, ny])\n",
        "for xi in range(nx):\n",
        "    for yi in range(ny):\n",
        "        w1 = xx[xi]\n",
        "        w2 = yy[yi]\n",
        "        xentropy_values[xi, yi] = xentropy(\n",
        "            X, \n",
        "            d,\n",
        "            np.array([[w1], [w2]])\n",
        "        )\n",
        "\n",
        "x_mesh, y_mesh = np.meshgrid(xx, yy)\n",
        "plt.contourf(x_mesh, y_mesh, xentropy_values.T, cmap=cm.viridis)\n",
        "\n",
        "for iteration in range(0, 100, 1):\n",
        "    plt.plot(weight_history[iteration][0, 0], weight_history[iteration][1, 0], 'r*', markersize=20, alpha=0.1)\n",
        "plt.xlabel('w1')\n",
        "plt.ylabel('w2')\n",
        "plt.colorbar()\n",
        "plt.show()"
      ],
      "execution_count": 61,
      "outputs": [
        {
          "output_type": "display_data",
          "data": {
            "image/png": "[encoded data removed]",
            "text/plain": [
              "<matplotlib.figure.Figure at 0x7f56281ca898>"
            ]
          },
          "metadata": {
            "tags": []
          }
        }
      ]
    },
    {
      "metadata": {
        "id": "nKMbGyGwC4Id",
        "colab_type": "text"
      },
      "cell_type": "markdown",
      "source": [
        "### Curva de aprendizaje"
      ]
    },
    {
      "metadata": {
        "id": "yZ1fgN6qC4Ie",
        "colab_type": "code",
        "colab": {
          "base_uri": "https://localhost:8080/",
          "height": 294
        },
        "outputId": "5411c821-19d8-440b-c06c-6051c5c0df9f"
      },
      "cell_type": "code",
      "source": [
        "xentropy_history = []\n",
        "for weight in weight_history:\n",
        "    xentropy_history.append(xentropy(X, d, weight))\n",
        "xentropy_history = np.array(xentropy_history)\n",
        "plt.plot(xentropy_history)\n",
        "plt.xlabel('Iteraciones')\n",
        "plt.ylabel('Entropía cruzada (nats)')\n",
        "plt.title('Curva de aprendizaje')\n",
        "plt.show()"
      ],
      "execution_count": 23,
      "outputs": [
        {
          "output_type": "display_data",
          "data": {
            "image/png": "[encoded data removed]",
            "text/plain": [
              "<matplotlib.figure.Figure at 0x7f562bbc0e10>"
            ]
          },
          "metadata": {
            "tags": []
          }
        }
      ]
    },
    {
      "metadata": {
        "id": "_IIZFCAyC4Ir",
        "colab_type": "text"
      },
      "cell_type": "markdown",
      "source": [
        "---\n",
        "# Entrenamiento por Batch"
      ]
    },
    {
      "metadata": {
        "id": "dLqCtvXhC4Is",
        "colab_type": "text"
      },
      "cell_type": "markdown",
      "source": [
        "Scikit-Learn / Conjuntos Train-Validation-Test"
      ]
    },
    {
      "metadata": {
        "id": "kBw7_xk9C4Iv",
        "colab_type": "code",
        "colab": {}
      },
      "cell_type": "code",
      "source": [
        "from sklearn.model_selection import train_test_split\n",
        "\n",
        "test_size = 0.2\n",
        "data_array = X\n",
        "data_labels = d\n",
        "\n",
        "train_array, test_array, train_labels, test_labels = train_test_split(data_array, data_labels,\n",
        "                                                    test_size=test_size,\n",
        "                                                    random_state=42,\n",
        "                                                    stratify=data_labels)"
      ],
      "execution_count": 0,
      "outputs": []
    },
    {
      "metadata": {
        "id": "xLo17aeIC4I0",
        "colab_type": "code",
        "colab": {
          "base_uri": "https://localhost:8080/",
          "height": 187
        },
        "outputId": "83830de6-90b3-4331-e027-97f33323631d"
      },
      "cell_type": "code",
      "source": [
        "print(\"Dataset Samples: %i, Number of 1 labels %i, Number of 0 labels %i\\n labels ratio %.2f\\n\" %\n",
        "     (data_array.shape[0], np.where(data_labels==1)[0].shape[0], np.where(data_labels==0)[0].shape[0],\n",
        "     np.where(data_labels==1)[0].shape[0]/np.where(data_labels==0)[0].shape[0]))\n",
        "print(\"Train Samples: %i, Number of 1 labels %i, Number of 0 labels %i\\n labels ratio %.2f\\n\" %\n",
        "     (train_array.shape[0], np.where(train_labels==1)[0].shape[0], np.where(train_labels==0)[0].shape[0],\n",
        "     np.where(train_labels==1)[0].shape[0]/np.where(train_labels==0)[0].shape[0]))\n",
        "print(\"Test Samples: %i, Number of 1 labels %i, Number of 0 labels %i\\n labels ratio %.2f\\n\"%\n",
        "     (test_array.shape[0], np.where(test_labels==1)[0].shape[0], np.where(test_labels==0)[0].shape[0],\n",
        "     np.where(test_labels==1)[0].shape[0]/np.where(test_labels==0)[0].shape[0]))\n",
        "print(\"Train/Dataset samples ratio %.2f - Test/Dataset samples ratio %.2f\" %\n",
        "     (train_array.shape[0]/data_array.shape[0], test_array.shape[0]/data_array.shape[0]))"
      ],
      "execution_count": 52,
      "outputs": [
        {
          "output_type": "stream",
          "text": [
            "Dataset Samples: 500, Number of 1 labels 250, Number of 0 labels 250\n",
            " labels ratio 1.00\n",
            "\n",
            "Train Samples: 400, Number of 1 labels 200, Number of 0 labels 200\n",
            " labels ratio 1.00\n",
            "\n",
            "Test Samples: 100, Number of 1 labels 50, Number of 0 labels 50\n",
            " labels ratio 1.00\n",
            "\n",
            "Train/Dataset samples ratio 0.80 - Test/Dataset samples ratio 0.20\n"
          ],
          "name": "stdout"
        }
      ]
    },
    {
      "metadata": {
        "id": "Wyx07tgpC4JE",
        "colab_type": "text"
      },
      "cell_type": "markdown",
      "source": [
        "Ahora vamos a crear un script para generar batchs de entrenamiento.\n",
        "\n",
        "Los batch se utilizan por distintas razones, pero más que nada por el tamaño de las bases de datos."
      ]
    },
    {
      "metadata": {
        "id": "c7IAoS9EC4JH",
        "colab_type": "code",
        "colab": {}
      },
      "cell_type": "code",
      "source": [
        "from batch_generator import dataset\n",
        "\n",
        "BATCH_SIZE = 32\n",
        "train_data_set = dataset(train_array, train_labels, BATCH_SIZE)\n",
        "test_data_set = dataset(test_array, test_labels, BATCH_SIZE)"
      ],
      "execution_count": 0,
      "outputs": []
    },
    {
      "metadata": {
        "id": "TOM3UCWOC4JP",
        "colab_type": "text"
      },
      "cell_type": "markdown",
      "source": [
        "## Entrenar el modelo"
      ]
    },
    {
      "metadata": {
        "id": "gHxHGgjmC4JQ",
        "colab_type": "code",
        "colab": {
          "base_uri": "https://localhost:8080/",
          "height": 34
        },
        "outputId": "cf83a0a8-d342-4956-d4ff-cca0237fe2a7"
      },
      "cell_type": "code",
      "source": [
        "initial_weights = np.array([[0], [0]])\n",
        "print('Valor inicial de la entropía cruzada: %.3f' % xentropy(X, d, initial_weights))"
      ],
      "execution_count": 27,
      "outputs": [
        {
          "output_type": "stream",
          "text": [
            "Valor inicial de la entropía cruzada: 0.693\n"
          ],
          "name": "stdout"
        }
      ]
    },
    {
      "metadata": {
        "id": "yptMpToJC4Jc",
        "colab_type": "code",
        "colab": {
          "base_uri": "https://localhost:8080/",
          "height": 17017
        },
        "outputId": "914d489c-34cd-4c6c-827f-312f1bb7317d"
      },
      "cell_type": "code",
      "source": [
        "learning_rate = 0.001\n",
        "W = initial_weights\n",
        "iterations = 1000\n",
        "\n",
        "weight_history = []\n",
        "xentropy_history = []\n",
        "for iteration in range(iterations):\n",
        "    batch_array, batch_labels = train_data_set.get_batch()\n",
        "    W = W - learning_rate * gradient(batch_array, batch_labels, W)\n",
        "    weight_history.append(W)\n",
        "    xentropy_history.append(xentropy(batch_array, batch_labels, W))\n",
        "    print('[Iteración %d] Entropía cruzada: %.3f' % (iteration, xentropy(batch_array, batch_labels, W)))"
      ],
      "execution_count": 28,
      "outputs": [
        {
          "output_type": "stream",
          "text": [
            "[Iteración 0] Entropía cruzada: 0.691\n",
            "[Iteración 1] Entropía cruzada: 0.689\n",
            "[Iteración 2] Entropía cruzada: 0.687\n",
            "[Iteración 3] Entropía cruzada: 0.682\n",
            "[Iteración 4] Entropía cruzada: 0.683\n",
            "[Iteración 5] Entropía cruzada: 0.681\n",
            "[Iteración 6] Entropía cruzada: 0.678\n",
            "[Iteración 7] Entropía cruzada: 0.675\n",
            "[Iteración 8] Entropía cruzada: 0.675\n",
            "[Iteración 9] Entropía cruzada: 0.673\n",
            "[Iteración 10] Entropía cruzada: 0.669\n",
            "[Iteración 11] Entropía cruzada: 0.667\n",
            "[Iteración 12] Entropía cruzada: 0.667\n",
            "[Iteración 13] Entropía cruzada: 0.662\n",
            "[Iteración 14] Entropía cruzada: 0.662\n",
            "[Iteración 15] Entropía cruzada: 0.655\n",
            "[Iteración 16] Entropía cruzada: 0.656\n",
            "[Iteración 17] Entropía cruzada: 0.653\n",
            "[Iteración 18] Entropía cruzada: 0.654\n",
            "[Iteración 19] Entropía cruzada: 0.654\n",
            "[Iteración 20] Entropía cruzada: 0.654\n",
            "[Iteración 21] Entropía cruzada: 0.645\n",
            "[Iteración 22] Entropía cruzada: 0.644\n",
            "[Iteración 23] Entropía cruzada: 0.649\n",
            "[Iteración 24] Entropía cruzada: 0.640\n",
            "[Iteración 25] Entropía cruzada: 0.643\n",
            "[Iteración 26] Entropía cruzada: 0.647\n",
            "[Iteración 27] Entropía cruzada: 0.641\n",
            "[Iteración 28] Entropía cruzada: 0.648\n",
            "[Iteración 29] Entropía cruzada: 0.634\n",
            "[Iteración 30] Entropía cruzada: 0.625\n",
            "[Iteración 31] Entropía cruzada: 0.622\n",
            "[Iteración 32] Entropía cruzada: 0.613\n",
            "[Iteración 33] Entropía cruzada: 0.631\n",
            "[Iteración 34] Entropía cruzada: 0.628\n",
            "[Iteración 35] Entropía cruzada: 0.614\n",
            "[Iteración 36] Entropía cruzada: 0.607\n",
            "[Iteración 37] Entropía cruzada: 0.609\n",
            "[Iteración 38] Entropía cruzada: 0.618\n",
            "[Iteración 39] Entropía cruzada: 0.609\n",
            "[Iteración 40] Entropía cruzada: 0.618\n",
            "[Iteración 41] Entropía cruzada: 0.608\n",
            "[Iteración 42] Entropía cruzada: 0.619\n",
            "[Iteración 43] Entropía cruzada: 0.614\n",
            "[Iteración 44] Entropía cruzada: 0.612\n",
            "[Iteración 45] Entropía cruzada: 0.594\n",
            "[Iteración 46] Entropía cruzada: 0.607\n",
            "[Iteración 47] Entropía cruzada: 0.602\n",
            "[Iteración 48] Entropía cruzada: 0.584\n",
            "[Iteración 49] Entropía cruzada: 0.607\n",
            "[Iteración 50] Entropía cruzada: 0.600\n",
            "[Iteración 51] Entropía cruzada: 0.596\n",
            "[Iteración 52] Entropía cruzada: 0.596\n",
            "[Iteración 53] Entropía cruzada: 0.586\n",
            "[Iteración 54] Entropía cruzada: 0.600\n",
            "[Iteración 55] Entropía cruzada: 0.584\n",
            "[Iteración 56] Entropía cruzada: 0.574\n",
            "[Iteración 57] Entropía cruzada: 0.575\n",
            "[Iteración 58] Entropía cruzada: 0.590\n",
            "[Iteración 59] Entropía cruzada: 0.587\n",
            "[Iteración 60] Entropía cruzada: 0.579\n",
            "[Iteración 61] Entropía cruzada: 0.576\n",
            "[Iteración 62] Entropía cruzada: 0.594\n",
            "[Iteración 63] Entropía cruzada: 0.583\n",
            "[Iteración 64] Entropía cruzada: 0.570\n",
            "[Iteración 65] Entropía cruzada: 0.568\n",
            "[Iteración 66] Entropía cruzada: 0.561\n",
            "[Iteración 67] Entropía cruzada: 0.578\n",
            "[Iteración 68] Entropía cruzada: 0.574\n",
            "[Iteración 69] Entropía cruzada: 0.555\n",
            "[Iteración 70] Entropía cruzada: 0.562\n",
            "[Iteración 71] Entropía cruzada: 0.552\n",
            "[Iteración 72] Entropía cruzada: 0.563\n",
            "[Iteración 73] Entropía cruzada: 0.550\n",
            "[Iteración 74] Entropía cruzada: 0.546\n",
            "[Iteración 75] Entropía cruzada: 0.569\n",
            "[Iteración 76] Entropía cruzada: 0.557\n",
            "[Iteración 77] Entropía cruzada: 0.549\n",
            "[Iteración 78] Entropía cruzada: 0.550\n",
            "[Iteración 79] Entropía cruzada: 0.543\n",
            "[Iteración 80] Entropía cruzada: 0.547\n",
            "[Iteración 81] Entropía cruzada: 0.568\n",
            "[Iteración 82] Entropía cruzada: 0.551\n",
            "[Iteración 83] Entropía cruzada: 0.561\n",
            "[Iteración 84] Entropía cruzada: 0.554\n",
            "[Iteración 85] Entropía cruzada: 0.564\n",
            "[Iteración 86] Entropía cruzada: 0.537\n",
            "[Iteración 87] Entropía cruzada: 0.538\n",
            "[Iteración 88] Entropía cruzada: 0.552\n",
            "[Iteración 89] Entropía cruzada: 0.516\n",
            "[Iteración 90] Entropía cruzada: 0.560\n",
            "[Iteración 91] Entropía cruzada: 0.540\n",
            "[Iteración 92] Entropía cruzada: 0.521\n",
            "[Iteración 93] Entropía cruzada: 0.536\n",
            "[Iteración 94] Entropía cruzada: 0.550\n",
            "[Iteración 95] Entropía cruzada: 0.501\n",
            "[Iteración 96] Entropía cruzada: 0.516\n",
            "[Iteración 97] Entropía cruzada: 0.515\n",
            "[Iteración 98] Entropía cruzada: 0.537\n",
            "[Iteración 99] Entropía cruzada: 0.522\n",
            "[Iteración 100] Entropía cruzada: 0.532\n",
            "[Iteración 101] Entropía cruzada: 0.529\n",
            "[Iteración 102] Entropía cruzada: 0.525\n",
            "[Iteración 103] Entropía cruzada: 0.493\n",
            "[Iteración 104] Entropía cruzada: 0.546\n",
            "[Iteración 105] Entropía cruzada: 0.526\n",
            "[Iteración 106] Entropía cruzada: 0.533\n",
            "[Iteración 107] Entropía cruzada: 0.491\n",
            "[Iteración 108] Entropía cruzada: 0.521\n",
            "[Iteración 109] Entropía cruzada: 0.516\n",
            "[Iteración 110] Entropía cruzada: 0.510\n",
            "[Iteración 111] Entropía cruzada: 0.518\n",
            "[Iteración 112] Entropía cruzada: 0.518\n",
            "[Iteración 113] Entropía cruzada: 0.486\n",
            "[Iteración 114] Entropía cruzada: 0.518\n",
            "[Iteración 115] Entropía cruzada: 0.511\n",
            "[Iteración 116] Entropía cruzada: 0.490\n",
            "[Iteración 117] Entropía cruzada: 0.486\n",
            "[Iteración 118] Entropía cruzada: 0.499\n",
            "[Iteración 119] Entropía cruzada: 0.505\n",
            "[Iteración 120] Entropía cruzada: 0.495\n",
            "[Iteración 121] Entropía cruzada: 0.490\n",
            "[Iteración 122] Entropía cruzada: 0.506\n",
            "[Iteración 123] Entropía cruzada: 0.478\n",
            "[Iteración 124] Entropía cruzada: 0.485\n",
            "[Iteración 125] Entropía cruzada: 0.526\n",
            "[Iteración 126] Entropía cruzada: 0.503\n",
            "[Iteración 127] Entropía cruzada: 0.481\n",
            "[Iteración 128] Entropía cruzada: 0.498\n",
            "[Iteración 129] Entropía cruzada: 0.497\n",
            "[Iteración 130] Entropía cruzada: 0.486\n",
            "[Iteración 131] Entropía cruzada: 0.475\n",
            "[Iteración 132] Entropía cruzada: 0.489\n",
            "[Iteración 133] Entropía cruzada: 0.473\n",
            "[Iteración 134] Entropía cruzada: 0.510\n",
            "[Iteración 135] Entropía cruzada: 0.472\n",
            "[Iteración 136] Entropía cruzada: 0.469\n",
            "[Iteración 137] Entropía cruzada: 0.487\n",
            "[Iteración 138] Entropía cruzada: 0.495\n",
            "[Iteración 139] Entropía cruzada: 0.492\n",
            "[Iteración 140] Entropía cruzada: 0.467\n",
            "[Iteración 141] Entropía cruzada: 0.459\n",
            "[Iteración 142] Entropía cruzada: 0.476\n",
            "[Iteración 143] Entropía cruzada: 0.481\n",
            "[Iteración 144] Entropía cruzada: 0.491\n",
            "[Iteración 145] Entropía cruzada: 0.486\n",
            "[Iteración 146] Entropía cruzada: 0.472\n",
            "[Iteración 147] Entropía cruzada: 0.467\n",
            "[Iteración 148] Entropía cruzada: 0.475\n",
            "[Iteración 149] Entropía cruzada: 0.443\n",
            "[Iteración 150] Entropía cruzada: 0.471\n",
            "[Iteración 151] Entropía cruzada: 0.463\n",
            "[Iteración 152] Entropía cruzada: 0.455\n",
            "[Iteración 153] Entropía cruzada: 0.474\n",
            "[Iteración 154] Entropía cruzada: 0.483\n",
            "[Iteración 155] Entropía cruzada: 0.441\n",
            "[Iteración 156] Entropía cruzada: 0.468\n",
            "[Iteración 157] Entropía cruzada: 0.460\n",
            "[Iteración 158] Entropía cruzada: 0.462\n",
            "[Iteración 159] Entropía cruzada: 0.477\n",
            "[Iteración 160] Entropía cruzada: 0.435\n",
            "[Iteración 161] Entropía cruzada: 0.445\n",
            "[Iteración 162] Entropía cruzada: 0.444\n",
            "[Iteración 163] Entropía cruzada: 0.477\n",
            "[Iteración 164] Entropía cruzada: 0.497\n",
            "[Iteración 165] Entropía cruzada: 0.425\n",
            "[Iteración 166] Entropía cruzada: 0.467\n",
            "[Iteración 167] Entropía cruzada: 0.430\n",
            "[Iteración 168] Entropía cruzada: 0.459\n",
            "[Iteración 169] Entropía cruzada: 0.439\n",
            "[Iteración 170] Entropía cruzada: 0.478\n",
            "[Iteración 171] Entropía cruzada: 0.425\n",
            "[Iteración 172] Entropía cruzada: 0.447\n",
            "[Iteración 173] Entropía cruzada: 0.433\n",
            "[Iteración 174] Entropía cruzada: 0.489\n",
            "[Iteración 175] Entropía cruzada: 0.447\n",
            "[Iteración 176] Entropía cruzada: 0.427\n",
            "[Iteración 177] Entropía cruzada: 0.442\n",
            "[Iteración 178] Entropía cruzada: 0.444\n",
            "[Iteración 179] Entropía cruzada: 0.419\n",
            "[Iteración 180] Entropía cruzada: 0.443\n",
            "[Iteración 181] Entropía cruzada: 0.445\n",
            "[Iteración 182] Entropía cruzada: 0.433\n",
            "[Iteración 183] Entropía cruzada: 0.405\n",
            "[Iteración 184] Entropía cruzada: 0.466\n",
            "[Iteración 185] Entropía cruzada: 0.426\n",
            "[Iteración 186] Entropía cruzada: 0.429\n",
            "[Iteración 187] Entropía cruzada: 0.471\n",
            "[Iteración 188] Entropía cruzada: 0.420\n",
            "[Iteración 189] Entropía cruzada: 0.405\n",
            "[Iteración 190] Entropía cruzada: 0.457\n",
            "[Iteración 191] Entropía cruzada: 0.442\n",
            "[Iteración 192] Entropía cruzada: 0.442\n",
            "[Iteración 193] Entropía cruzada: 0.428\n",
            "[Iteración 194] Entropía cruzada: 0.392\n",
            "[Iteración 195] Entropía cruzada: 0.439\n",
            "[Iteración 196] Entropía cruzada: 0.423\n",
            "[Iteración 197] Entropía cruzada: 0.398\n",
            "[Iteración 198] Entropía cruzada: 0.491\n",
            "[Iteración 199] Entropía cruzada: 0.437\n",
            "[Iteración 200] Entropía cruzada: 0.403\n",
            "[Iteración 201] Entropía cruzada: 0.421\n",
            "[Iteración 202] Entropía cruzada: 0.423\n",
            "[Iteración 203] Entropía cruzada: 0.417\n",
            "[Iteración 204] Entropía cruzada: 0.397\n",
            "[Iteración 205] Entropía cruzada: 0.422\n",
            "[Iteración 206] Entropía cruzada: 0.422\n",
            "[Iteración 207] Entropía cruzada: 0.467\n",
            "[Iteración 208] Entropía cruzada: 0.411\n",
            "[Iteración 209] Entropía cruzada: 0.396\n",
            "[Iteración 210] Entropía cruzada: 0.448\n",
            "[Iteración 211] Entropía cruzada: 0.411\n",
            "[Iteración 212] Entropía cruzada: 0.425\n",
            "[Iteración 213] Entropía cruzada: 0.368\n",
            "[Iteración 214] Entropía cruzada: 0.438\n",
            "[Iteración 215] Entropía cruzada: 0.414\n",
            "[Iteración 216] Entropía cruzada: 0.437\n",
            "[Iteración 217] Entropía cruzada: 0.371\n",
            "[Iteración 218] Entropía cruzada: 0.425\n",
            "[Iteración 219] Entropía cruzada: 0.415\n",
            "[Iteración 220] Entropía cruzada: 0.349\n",
            "[Iteración 221] Entropía cruzada: 0.415\n",
            "[Iteración 222] Entropía cruzada: 0.414\n",
            "[Iteración 223] Entropía cruzada: 0.406\n",
            "[Iteración 224] Entropía cruzada: 0.424\n",
            "[Iteración 225] Entropía cruzada: 0.390\n",
            "[Iteración 226] Entropía cruzada: 0.458\n",
            "[Iteración 227] Entropía cruzada: 0.417\n",
            "[Iteración 228] Entropía cruzada: 0.434\n",
            "[Iteración 229] Entropía cruzada: 0.395\n",
            "[Iteración 230] Entropía cruzada: 0.386\n",
            "[Iteración 231] Entropía cruzada: 0.366\n",
            "[Iteración 232] Entropía cruzada: 0.403\n",
            "[Iteración 233] Entropía cruzada: 0.382\n",
            "[Iteración 234] Entropía cruzada: 0.381\n",
            "[Iteración 235] Entropía cruzada: 0.413\n",
            "[Iteración 236] Entropía cruzada: 0.378\n",
            "[Iteración 237] Entropía cruzada: 0.441\n",
            "[Iteración 238] Entropía cruzada: 0.405\n",
            "[Iteración 239] Entropía cruzada: 0.431\n",
            "[Iteración 240] Entropía cruzada: 0.395\n",
            "[Iteración 241] Entropía cruzada: 0.405\n",
            "[Iteración 242] Entropía cruzada: 0.411\n",
            "[Iteración 243] Entropía cruzada: 0.395\n",
            "[Iteración 244] Entropía cruzada: 0.392\n",
            "[Iteración 245] Entropía cruzada: 0.405\n",
            "[Iteración 246] Entropía cruzada: 0.441\n",
            "[Iteración 247] Entropía cruzada: 0.376\n",
            "[Iteración 248] Entropía cruzada: 0.358\n",
            "[Iteración 249] Entropía cruzada: 0.390\n",
            "[Iteración 250] Entropía cruzada: 0.392\n",
            "[Iteración 251] Entropía cruzada: 0.391\n",
            "[Iteración 252] Entropía cruzada: 0.370\n",
            "[Iteración 253] Entropía cruzada: 0.395\n",
            "[Iteración 254] Entropía cruzada: 0.385\n",
            "[Iteración 255] Entropía cruzada: 0.404\n",
            "[Iteración 256] Entropía cruzada: 0.395\n",
            "[Iteración 257] Entropía cruzada: 0.362\n",
            "[Iteración 258] Entropía cruzada: 0.384\n",
            "[Iteración 259] Entropía cruzada: 0.403\n",
            "[Iteración 260] Entropía cruzada: 0.391\n",
            "[Iteración 261] Entropía cruzada: 0.384\n",
            "[Iteración 262] Entropía cruzada: 0.348\n",
            "[Iteración 263] Entropía cruzada: 0.381\n",
            "[Iteración 264] Entropía cruzada: 0.405\n",
            "[Iteración 265] Entropía cruzada: 0.390\n",
            "[Iteración 266] Entropía cruzada: 0.344\n",
            "[Iteración 267] Entropía cruzada: 0.392\n",
            "[Iteración 268] Entropía cruzada: 0.367\n",
            "[Iteración 269] Entropía cruzada: 0.352\n",
            "[Iteración 270] Entropía cruzada: 0.335\n",
            "[Iteración 271] Entropía cruzada: 0.380\n",
            "[Iteración 272] Entropía cruzada: 0.398\n",
            "[Iteración 273] Entropía cruzada: 0.417\n",
            "[Iteración 274] Entropía cruzada: 0.424\n",
            "[Iteración 275] Entropía cruzada: 0.335\n",
            "[Iteración 276] Entropía cruzada: 0.361\n",
            "[Iteración 277] Entropía cruzada: 0.370\n",
            "[Iteración 278] Entropía cruzada: 0.300\n",
            "[Iteración 279] Entropía cruzada: 0.351\n",
            "[Iteración 280] Entropía cruzada: 0.409\n",
            "[Iteración 281] Entropía cruzada: 0.353\n",
            "[Iteración 282] Entropía cruzada: 0.365\n",
            "[Iteración 283] Entropía cruzada: 0.387\n",
            "[Iteración 284] Entropía cruzada: 0.400\n",
            "[Iteración 285] Entropía cruzada: 0.381\n",
            "[Iteración 286] Entropía cruzada: 0.362\n",
            "[Iteración 287] Entropía cruzada: 0.437\n",
            "[Iteración 288] Entropía cruzada: 0.355\n",
            "[Iteración 289] Entropía cruzada: 0.373\n",
            "[Iteración 290] Entropía cruzada: 0.347\n",
            "[Iteración 291] Entropía cruzada: 0.420\n",
            "[Iteración 292] Entropía cruzada: 0.401\n",
            "[Iteración 293] Entropía cruzada: 0.383\n",
            "[Iteración 294] Entropía cruzada: 0.341\n",
            "[Iteración 295] Entropía cruzada: 0.343\n",
            "[Iteración 296] Entropía cruzada: 0.336\n",
            "[Iteración 297] Entropía cruzada: 0.345\n",
            "[Iteración 298] Entropía cruzada: 0.387\n",
            "[Iteración 299] Entropía cruzada: 0.367\n",
            "[Iteración 300] Entropía cruzada: 0.391\n",
            "[Iteración 301] Entropía cruzada: 0.380\n",
            "[Iteración 302] Entropía cruzada: 0.346\n",
            "[Iteración 303] Entropía cruzada: 0.353\n",
            "[Iteración 304] Entropía cruzada: 0.378\n",
            "[Iteración 305] Entropía cruzada: 0.354\n",
            "[Iteración 306] Entropía cruzada: 0.355\n",
            "[Iteración 307] Entropía cruzada: 0.351\n",
            "[Iteración 308] Entropía cruzada: 0.353\n",
            "[Iteración 309] Entropía cruzada: 0.373\n",
            "[Iteración 310] Entropía cruzada: 0.306\n",
            "[Iteración 311] Entropía cruzada: 0.367\n",
            "[Iteración 312] Entropía cruzada: 0.324\n",
            "[Iteración 313] Entropía cruzada: 0.348\n",
            "[Iteración 314] Entropía cruzada: 0.386\n",
            "[Iteración 315] Entropía cruzada: 0.350\n",
            "[Iteración 316] Entropía cruzada: 0.326\n",
            "[Iteración 317] Entropía cruzada: 0.374\n",
            "[Iteración 318] Entropía cruzada: 0.366\n",
            "[Iteración 319] Entropía cruzada: 0.355\n",
            "[Iteración 320] Entropía cruzada: 0.339\n",
            "[Iteración 321] Entropía cruzada: 0.322\n",
            "[Iteración 322] Entropía cruzada: 0.371\n",
            "[Iteración 323] Entropía cruzada: 0.377\n",
            "[Iteración 324] Entropía cruzada: 0.314\n",
            "[Iteración 325] Entropía cruzada: 0.303\n",
            "[Iteración 326] Entropía cruzada: 0.401\n",
            "[Iteración 327] Entropía cruzada: 0.358\n",
            "[Iteración 328] Entropía cruzada: 0.329\n",
            "[Iteración 329] Entropía cruzada: 0.327\n",
            "[Iteración 330] Entropía cruzada: 0.392\n",
            "[Iteración 331] Entropía cruzada: 0.309\n",
            "[Iteración 332] Entropía cruzada: 0.342\n",
            "[Iteración 333] Entropía cruzada: 0.327\n",
            "[Iteración 334] Entropía cruzada: 0.416\n",
            "[Iteración 335] Entropía cruzada: 0.367\n",
            "[Iteración 336] Entropía cruzada: 0.321\n",
            "[Iteración 337] Entropía cruzada: 0.363\n",
            "[Iteración 338] Entropía cruzada: 0.359\n",
            "[Iteración 339] Entropía cruzada: 0.395\n",
            "[Iteración 340] Entropía cruzada: 0.347\n",
            "[Iteración 341] Entropía cruzada: 0.359\n",
            "[Iteración 342] Entropía cruzada: 0.284\n",
            "[Iteración 343] Entropía cruzada: 0.314\n",
            "[Iteración 344] Entropía cruzada: 0.296\n",
            "[Iteración 345] Entropía cruzada: 0.386\n",
            "[Iteración 346] Entropía cruzada: 0.373\n",
            "[Iteración 347] Entropía cruzada: 0.333\n",
            "[Iteración 348] Entropía cruzada: 0.339\n",
            "[Iteración 349] Entropía cruzada: 0.301\n",
            "[Iteración 350] Entropía cruzada: 0.324\n",
            "[Iteración 351] Entropía cruzada: 0.394\n",
            "[Iteración 352] Entropía cruzada: 0.315\n",
            "[Iteración 353] Entropía cruzada: 0.322\n",
            "[Iteración 354] Entropía cruzada: 0.355\n",
            "[Iteración 355] Entropía cruzada: 0.332\n",
            "[Iteración 356] Entropía cruzada: 0.335\n",
            "[Iteración 357] Entropía cruzada: 0.364\n",
            "[Iteración 358] Entropía cruzada: 0.325\n",
            "[Iteración 359] Entropía cruzada: 0.369\n",
            "[Iteración 360] Entropía cruzada: 0.347\n",
            "[Iteración 361] Entropía cruzada: 0.332\n",
            "[Iteración 362] Entropía cruzada: 0.330\n",
            "[Iteración 363] Entropía cruzada: 0.347\n",
            "[Iteración 364] Entropía cruzada: 0.356\n",
            "[Iteración 365] Entropía cruzada: 0.324\n",
            "[Iteración 366] Entropía cruzada: 0.337\n",
            "[Iteración 367] Entropía cruzada: 0.333\n",
            "[Iteración 368] Entropía cruzada: 0.376\n",
            "[Iteración 369] Entropía cruzada: 0.283\n",
            "[Iteración 370] Entropía cruzada: 0.326\n",
            "[Iteración 371] Entropía cruzada: 0.332\n",
            "[Iteración 372] Entropía cruzada: 0.314\n",
            "[Iteración 373] Entropía cruzada: 0.331\n",
            "[Iteración 374] Entropía cruzada: 0.302\n",
            "[Iteración 375] Entropía cruzada: 0.348\n",
            "[Iteración 376] Entropía cruzada: 0.345\n",
            "[Iteración 377] Entropía cruzada: 0.338\n",
            "[Iteración 378] Entropía cruzada: 0.301\n",
            "[Iteración 379] Entropía cruzada: 0.311\n",
            "[Iteración 380] Entropía cruzada: 0.346\n",
            "[Iteración 381] Entropía cruzada: 0.329\n",
            "[Iteración 382] Entropía cruzada: 0.316\n",
            "[Iteración 383] Entropía cruzada: 0.319\n",
            "[Iteración 384] Entropía cruzada: 0.284\n",
            "[Iteración 385] Entropía cruzada: 0.326\n",
            "[Iteración 386] Entropía cruzada: 0.332\n",
            "[Iteración 387] Entropía cruzada: 0.339\n",
            "[Iteración 388] Entropía cruzada: 0.350\n",
            "[Iteración 389] Entropía cruzada: 0.318\n",
            "[Iteración 390] Entropía cruzada: 0.326\n",
            "[Iteración 391] Entropía cruzada: 0.309\n",
            "[Iteración 392] Entropía cruzada: 0.292\n",
            "[Iteración 393] Entropía cruzada: 0.343\n",
            "[Iteración 394] Entropía cruzada: 0.327\n",
            "[Iteración 395] Entropía cruzada: 0.339\n",
            "[Iteración 396] Entropía cruzada: 0.331\n",
            "[Iteración 397] Entropía cruzada: 0.348\n",
            "[Iteración 398] Entropía cruzada: 0.275\n",
            "[Iteración 399] Entropía cruzada: 0.343\n",
            "[Iteración 400] Entropía cruzada: 0.328\n",
            "[Iteración 401] Entropía cruzada: 0.324\n",
            "[Iteración 402] Entropía cruzada: 0.326\n",
            "[Iteración 403] Entropía cruzada: 0.326\n",
            "[Iteración 404] Entropía cruzada: 0.296\n",
            "[Iteración 405] Entropía cruzada: 0.289\n",
            "[Iteración 406] Entropía cruzada: 0.299\n",
            "[Iteración 407] Entropía cruzada: 0.347\n",
            "[Iteración 408] Entropía cruzada: 0.380\n",
            "[Iteración 409] Entropía cruzada: 0.337\n",
            "[Iteración 410] Entropía cruzada: 0.349\n",
            "[Iteración 411] Entropía cruzada: 0.280\n",
            "[Iteración 412] Entropía cruzada: 0.304\n",
            "[Iteración 413] Entropía cruzada: 0.271\n",
            "[Iteración 414] Entropía cruzada: 0.335\n",
            "[Iteración 415] Entropía cruzada: 0.347\n",
            "[Iteración 416] Entropía cruzada: 0.297\n",
            "[Iteración 417] Entropía cruzada: 0.324\n",
            "[Iteración 418] Entropía cruzada: 0.286\n",
            "[Iteración 419] Entropía cruzada: 0.284\n",
            "[Iteración 420] Entropía cruzada: 0.293\n",
            "[Iteración 421] Entropía cruzada: 0.286\n",
            "[Iteración 422] Entropía cruzada: 0.298\n",
            "[Iteración 423] Entropía cruzada: 0.321\n",
            "[Iteración 424] Entropía cruzada: 0.301\n",
            "[Iteración 425] Entropía cruzada: 0.293\n",
            "[Iteración 426] Entropía cruzada: 0.292\n",
            "[Iteración 427] Entropía cruzada: 0.314\n",
            "[Iteración 428] Entropía cruzada: 0.310\n",
            "[Iteración 429] Entropía cruzada: 0.348\n",
            "[Iteración 430] Entropía cruzada: 0.349\n",
            "[Iteración 431] Entropía cruzada: 0.317\n",
            "[Iteración 432] Entropía cruzada: 0.265\n",
            "[Iteración 433] Entropía cruzada: 0.313\n",
            "[Iteración 434] Entropía cruzada: 0.299\n",
            "[Iteración 435] Entropía cruzada: 0.233\n",
            "[Iteración 436] Entropía cruzada: 0.320\n",
            "[Iteración 437] Entropía cruzada: 0.375\n",
            "[Iteración 438] Entropía cruzada: 0.269\n",
            "[Iteración 439] Entropía cruzada: 0.333\n",
            "[Iteración 440] Entropía cruzada: 0.304\n",
            "[Iteración 441] Entropía cruzada: 0.338\n",
            "[Iteración 442] Entropía cruzada: 0.317\n",
            "[Iteración 443] Entropía cruzada: 0.300\n",
            "[Iteración 444] Entropía cruzada: 0.293\n",
            "[Iteración 445] Entropía cruzada: 0.349\n",
            "[Iteración 446] Entropía cruzada: 0.281\n",
            "[Iteración 447] Entropía cruzada: 0.293\n",
            "[Iteración 448] Entropía cruzada: 0.285\n",
            "[Iteración 449] Entropía cruzada: 0.276\n",
            "[Iteración 450] Entropía cruzada: 0.349\n",
            "[Iteración 451] Entropía cruzada: 0.331\n",
            "[Iteración 452] Entropía cruzada: 0.291\n",
            "[Iteración 453] Entropía cruzada: 0.305\n",
            "[Iteración 454] Entropía cruzada: 0.272\n",
            "[Iteración 455] Entropía cruzada: 0.304\n",
            "[Iteración 456] Entropía cruzada: 0.350\n",
            "[Iteración 457] Entropía cruzada: 0.291\n",
            "[Iteración 458] Entropía cruzada: 0.317\n",
            "[Iteración 459] Entropía cruzada: 0.323\n",
            "[Iteración 460] Entropía cruzada: 0.346\n",
            "[Iteración 461] Entropía cruzada: 0.244\n",
            "[Iteración 462] Entropía cruzada: 0.287\n",
            "[Iteración 463] Entropía cruzada: 0.331\n",
            "[Iteración 464] Entropía cruzada: 0.283\n",
            "[Iteración 465] Entropía cruzada: 0.226\n",
            "[Iteración 466] Entropía cruzada: 0.251\n",
            "[Iteración 467] Entropía cruzada: 0.347\n",
            "[Iteración 468] Entropía cruzada: 0.345\n",
            "[Iteración 469] Entropía cruzada: 0.307\n",
            "[Iteración 470] Entropía cruzada: 0.337\n",
            "[Iteración 471] Entropía cruzada: 0.264\n",
            "[Iteración 472] Entropía cruzada: 0.252\n",
            "[Iteración 473] Entropía cruzada: 0.334\n",
            "[Iteración 474] Entropía cruzada: 0.290\n",
            "[Iteración 475] Entropía cruzada: 0.319\n",
            "[Iteración 476] Entropía cruzada: 0.296\n",
            "[Iteración 477] Entropía cruzada: 0.301\n",
            "[Iteración 478] Entropía cruzada: 0.249\n",
            "[Iteración 479] Entropía cruzada: 0.287\n",
            "[Iteración 480] Entropía cruzada: 0.268\n",
            "[Iteración 481] Entropía cruzada: 0.356\n",
            "[Iteración 482] Entropía cruzada: 0.267\n",
            "[Iteración 483] Entropía cruzada: 0.320\n",
            "[Iteración 484] Entropía cruzada: 0.262\n",
            "[Iteración 485] Entropía cruzada: 0.331\n",
            "[Iteración 486] Entropía cruzada: 0.281\n",
            "[Iteración 487] Entropía cruzada: 0.305\n",
            "[Iteración 488] Entropía cruzada: 0.284\n",
            "[Iteración 489] Entropía cruzada: 0.290\n",
            "[Iteración 490] Entropía cruzada: 0.295\n",
            "[Iteración 491] Entropía cruzada: 0.274\n",
            "[Iteración 492] Entropía cruzada: 0.298\n",
            "[Iteración 493] Entropía cruzada: 0.287\n",
            "[Iteración 494] Entropía cruzada: 0.265\n",
            "[Iteración 495] Entropía cruzada: 0.277\n",
            "[Iteración 496] Entropía cruzada: 0.350\n",
            "[Iteración 497] Entropía cruzada: 0.255\n",
            "[Iteración 498] Entropía cruzada: 0.283\n",
            "[Iteración 499] Entropía cruzada: 0.322\n",
            "[Iteración 500] Entropía cruzada: 0.296\n",
            "[Iteración 501] Entropía cruzada: 0.288\n",
            "[Iteración 502] Entropía cruzada: 0.310\n",
            "[Iteración 503] Entropía cruzada: 0.276\n",
            "[Iteración 504] Entropía cruzada: 0.278\n",
            "[Iteración 505] Entropía cruzada: 0.341\n",
            "[Iteración 506] Entropía cruzada: 0.247\n",
            "[Iteración 507] Entropía cruzada: 0.245\n",
            "[Iteración 508] Entropía cruzada: 0.252\n",
            "[Iteración 509] Entropía cruzada: 0.274\n",
            "[Iteración 510] Entropía cruzada: 0.333\n",
            "[Iteración 511] Entropía cruzada: 0.301\n",
            "[Iteración 512] Entropía cruzada: 0.292\n",
            "[Iteración 513] Entropía cruzada: 0.271\n",
            "[Iteración 514] Entropía cruzada: 0.296\n",
            "[Iteración 515] Entropía cruzada: 0.337\n",
            "[Iteración 516] Entropía cruzada: 0.297\n",
            "[Iteración 517] Entropía cruzada: 0.252\n",
            "[Iteración 518] Entropía cruzada: 0.334\n",
            "[Iteración 519] Entropía cruzada: 0.257\n",
            "[Iteración 520] Entropía cruzada: 0.278\n",
            "[Iteración 521] Entropía cruzada: 0.307\n",
            "[Iteración 522] Entropía cruzada: 0.339\n",
            "[Iteración 523] Entropía cruzada: 0.283\n",
            "[Iteración 524] Entropía cruzada: 0.239\n",
            "[Iteración 525] Entropía cruzada: 0.306\n",
            "[Iteración 526] Entropía cruzada: 0.204\n",
            "[Iteración 527] Entropía cruzada: 0.266\n",
            "[Iteración 528] Entropía cruzada: 0.268\n",
            "[Iteración 529] Entropía cruzada: 0.333\n",
            "[Iteración 530] Entropía cruzada: 0.274\n",
            "[Iteración 531] Entropía cruzada: 0.269\n",
            "[Iteración 532] Entropía cruzada: 0.261\n",
            "[Iteración 533] Entropía cruzada: 0.267\n",
            "[Iteración 534] Entropía cruzada: 0.264\n",
            "[Iteración 535] Entropía cruzada: 0.317\n",
            "[Iteración 536] Entropía cruzada: 0.270\n",
            "[Iteración 537] Entropía cruzada: 0.287\n",
            "[Iteración 538] Entropía cruzada: 0.264\n",
            "[Iteración 539] Entropía cruzada: 0.298\n",
            "[Iteración 540] Entropía cruzada: 0.283\n",
            "[Iteración 541] Entropía cruzada: 0.217\n",
            "[Iteración 542] Entropía cruzada: 0.321\n",
            "[Iteración 543] Entropía cruzada: 0.278\n",
            "[Iteración 544] Entropía cruzada: 0.255\n",
            "[Iteración 545] Entropía cruzada: 0.245\n",
            "[Iteración 546] Entropía cruzada: 0.308\n",
            "[Iteración 547] Entropía cruzada: 0.258\n",
            "[Iteración 548] Entropía cruzada: 0.280\n",
            "[Iteración 549] Entropía cruzada: 0.288\n",
            "[Iteración 550] Entropía cruzada: 0.278\n",
            "[Iteración 551] Entropía cruzada: 0.314\n",
            "[Iteración 552] Entropía cruzada: 0.259\n",
            "[Iteración 553] Entropía cruzada: 0.288\n",
            "[Iteración 554] Entropía cruzada: 0.285\n",
            "[Iteración 555] Entropía cruzada: 0.313\n",
            "[Iteración 556] Entropía cruzada: 0.229\n",
            "[Iteración 557] Entropía cruzada: 0.253\n",
            "[Iteración 558] Entropía cruzada: 0.284\n",
            "[Iteración 559] Entropía cruzada: 0.331\n",
            "[Iteración 560] Entropía cruzada: 0.261\n",
            "[Iteración 561] Entropía cruzada: 0.283\n",
            "[Iteración 562] Entropía cruzada: 0.249\n",
            "[Iteración 563] Entropía cruzada: 0.250\n",
            "[Iteración 564] Entropía cruzada: 0.290\n",
            "[Iteración 565] Entropía cruzada: 0.280\n",
            "[Iteración 566] Entropía cruzada: 0.290\n",
            "[Iteración 567] Entropía cruzada: 0.311\n",
            "[Iteración 568] Entropía cruzada: 0.242\n",
            "[Iteración 569] Entropía cruzada: 0.242\n",
            "[Iteración 570] Entropía cruzada: 0.248\n",
            "[Iteración 571] Entropía cruzada: 0.276\n",
            "[Iteración 572] Entropía cruzada: 0.264\n",
            "[Iteración 573] Entropía cruzada: 0.230\n",
            "[Iteración 574] Entropía cruzada: 0.279\n",
            "[Iteración 575] Entropía cruzada: 0.300\n",
            "[Iteración 576] Entropía cruzada: 0.221\n",
            "[Iteración 577] Entropía cruzada: 0.297\n",
            "[Iteración 578] Entropía cruzada: 0.255\n",
            "[Iteración 579] Entropía cruzada: 0.274\n",
            "[Iteración 580] Entropía cruzada: 0.302\n",
            "[Iteración 581] Entropía cruzada: 0.318\n",
            "[Iteración 582] Entropía cruzada: 0.195\n",
            "[Iteración 583] Entropía cruzada: 0.203\n",
            "[Iteración 584] Entropía cruzada: 0.281\n",
            "[Iteración 585] Entropía cruzada: 0.286\n",
            "[Iteración 586] Entropía cruzada: 0.253\n",
            "[Iteración 587] Entropía cruzada: 0.328\n",
            "[Iteración 588] Entropía cruzada: 0.206\n",
            "[Iteración 589] Entropía cruzada: 0.216\n",
            "[Iteración 590] Entropía cruzada: 0.323\n",
            "[Iteración 591] Entropía cruzada: 0.317\n",
            "[Iteración 592] Entropía cruzada: 0.236\n",
            "[Iteración 593] Entropía cruzada: 0.283\n",
            "[Iteración 594] Entropía cruzada: 0.274\n",
            "[Iteración 595] Entropía cruzada: 0.261\n",
            "[Iteración 596] Entropía cruzada: 0.264\n",
            "[Iteración 597] Entropía cruzada: 0.272\n",
            "[Iteración 598] Entropía cruzada: 0.274\n",
            "[Iteración 599] Entropía cruzada: 0.277\n",
            "[Iteración 600] Entropía cruzada: 0.328\n",
            "[Iteración 601] Entropía cruzada: 0.268\n",
            "[Iteración 602] Entropía cruzada: 0.315\n",
            "[Iteración 603] Entropía cruzada: 0.239\n",
            "[Iteración 604] Entropía cruzada: 0.220\n",
            "[Iteración 605] Entropía cruzada: 0.251\n",
            "[Iteración 606] Entropía cruzada: 0.255\n",
            "[Iteración 607] Entropía cruzada: 0.238\n",
            "[Iteración 608] Entropía cruzada: 0.249\n",
            "[Iteración 609] Entropía cruzada: 0.308\n",
            "[Iteración 610] Entropía cruzada: 0.234\n",
            "[Iteración 611] Entropía cruzada: 0.259\n",
            "[Iteración 612] Entropía cruzada: 0.216\n",
            "[Iteración 613] Entropía cruzada: 0.321\n",
            "[Iteración 614] Entropía cruzada: 0.255\n",
            "[Iteración 615] Entropía cruzada: 0.280\n",
            "[Iteración 616] Entropía cruzada: 0.300\n",
            "[Iteración 617] Entropía cruzada: 0.301\n",
            "[Iteración 618] Entropía cruzada: 0.225\n",
            "[Iteración 619] Entropía cruzada: 0.239\n",
            "[Iteración 620] Entropía cruzada: 0.272\n",
            "[Iteración 621] Entropía cruzada: 0.277\n",
            "[Iteración 622] Entropía cruzada: 0.273\n",
            "[Iteración 623] Entropía cruzada: 0.198\n",
            "[Iteración 624] Entropía cruzada: 0.262\n",
            "[Iteración 625] Entropía cruzada: 0.191\n",
            "[Iteración 626] Entropía cruzada: 0.292\n",
            "[Iteración 627] Entropía cruzada: 0.265\n",
            "[Iteración 628] Entropía cruzada: 0.261\n",
            "[Iteración 629] Entropía cruzada: 0.251\n",
            "[Iteración 630] Entropía cruzada: 0.306\n",
            "[Iteración 631] Entropía cruzada: 0.287\n",
            "[Iteración 632] Entropía cruzada: 0.214\n",
            "[Iteración 633] Entropía cruzada: 0.273\n",
            "[Iteración 634] Entropía cruzada: 0.265\n",
            "[Iteración 635] Entropía cruzada: 0.236\n",
            "[Iteración 636] Entropía cruzada: 0.202\n",
            "[Iteración 637] Entropía cruzada: 0.273\n",
            "[Iteración 638] Entropía cruzada: 0.271\n",
            "[Iteración 639] Entropía cruzada: 0.214\n",
            "[Iteración 640] Entropía cruzada: 0.246\n",
            "[Iteración 641] Entropía cruzada: 0.310\n",
            "[Iteración 642] Entropía cruzada: 0.317\n",
            "[Iteración 643] Entropía cruzada: 0.241\n",
            "[Iteración 644] Entropía cruzada: 0.235\n",
            "[Iteración 645] Entropía cruzada: 0.229\n",
            "[Iteración 646] Entropía cruzada: 0.250\n",
            "[Iteración 647] Entropía cruzada: 0.219\n",
            "[Iteración 648] Entropía cruzada: 0.265\n",
            "[Iteración 649] Entropía cruzada: 0.201\n",
            "[Iteración 650] Entropía cruzada: 0.321\n",
            "[Iteración 651] Entropía cruzada: 0.214\n",
            "[Iteración 652] Entropía cruzada: 0.260\n",
            "[Iteración 653] Entropía cruzada: 0.259\n",
            "[Iteración 654] Entropía cruzada: 0.303\n",
            "[Iteración 655] Entropía cruzada: 0.280\n",
            "[Iteración 656] Entropía cruzada: 0.237\n",
            "[Iteración 657] Entropía cruzada: 0.270\n",
            "[Iteración 658] Entropía cruzada: 0.252\n",
            "[Iteración 659] Entropía cruzada: 0.233\n",
            "[Iteración 660] Entropía cruzada: 0.252\n",
            "[Iteración 661] Entropía cruzada: 0.193\n",
            "[Iteración 662] Entropía cruzada: 0.217\n",
            "[Iteración 663] Entropía cruzada: 0.240\n",
            "[Iteración 664] Entropía cruzada: 0.233\n",
            "[Iteración 665] Entropía cruzada: 0.323\n",
            "[Iteración 666] Entropía cruzada: 0.253\n",
            "[Iteración 667] Entropía cruzada: 0.282\n",
            "[Iteración 668] Entropía cruzada: 0.300\n",
            "[Iteración 669] Entropía cruzada: 0.282\n",
            "[Iteración 670] Entropía cruzada: 0.242\n",
            "[Iteración 671] Entropía cruzada: 0.202\n",
            "[Iteración 672] Entropía cruzada: 0.265\n",
            "[Iteración 673] Entropía cruzada: 0.290\n",
            "[Iteración 674] Entropía cruzada: 0.209\n",
            "[Iteración 675] Entropía cruzada: 0.242\n",
            "[Iteración 676] Entropía cruzada: 0.212\n",
            "[Iteración 677] Entropía cruzada: 0.313\n",
            "[Iteración 678] Entropía cruzada: 0.254\n",
            "[Iteración 679] Entropía cruzada: 0.278\n",
            "[Iteración 680] Entropía cruzada: 0.254\n",
            "[Iteración 681] Entropía cruzada: 0.241\n",
            "[Iteración 682] Entropía cruzada: 0.226\n",
            "[Iteración 683] Entropía cruzada: 0.235\n",
            "[Iteración 684] Entropía cruzada: 0.263\n",
            "[Iteración 685] Entropía cruzada: 0.259\n",
            "[Iteración 686] Entropía cruzada: 0.268\n",
            "[Iteración 687] Entropía cruzada: 0.229\n",
            "[Iteración 688] Entropía cruzada: 0.275\n",
            "[Iteración 689] Entropía cruzada: 0.262\n",
            "[Iteración 690] Entropía cruzada: 0.210\n",
            "[Iteración 691] Entropía cruzada: 0.259\n",
            "[Iteración 692] Entropía cruzada: 0.279\n",
            "[Iteración 693] Entropía cruzada: 0.202\n",
            "[Iteración 694] Entropía cruzada: 0.284\n",
            "[Iteración 695] Entropía cruzada: 0.185\n",
            "[Iteración 696] Entropía cruzada: 0.276\n",
            "[Iteración 697] Entropía cruzada: 0.269\n",
            "[Iteración 698] Entropía cruzada: 0.172\n",
            "[Iteración 699] Entropía cruzada: 0.267\n",
            "[Iteración 700] Entropía cruzada: 0.256\n",
            "[Iteración 701] Entropía cruzada: 0.222\n",
            "[Iteración 702] Entropía cruzada: 0.294\n",
            "[Iteración 703] Entropía cruzada: 0.256\n",
            "[Iteración 704] Entropía cruzada: 0.200\n",
            "[Iteración 705] Entropía cruzada: 0.205\n",
            "[Iteración 706] Entropía cruzada: 0.295\n",
            "[Iteración 707] Entropía cruzada: 0.251\n",
            "[Iteración 708] Entropía cruzada: 0.314\n",
            "[Iteración 709] Entropía cruzada: 0.215\n",
            "[Iteración 710] Entropía cruzada: 0.222\n",
            "[Iteración 711] Entropía cruzada: 0.287\n",
            "[Iteración 712] Entropía cruzada: 0.217\n",
            "[Iteración 713] Entropía cruzada: 0.214\n",
            "[Iteración 714] Entropía cruzada: 0.197\n",
            "[Iteración 715] Entropía cruzada: 0.188\n",
            "[Iteración 716] Entropía cruzada: 0.256\n",
            "[Iteración 717] Entropía cruzada: 0.267\n",
            "[Iteración 718] Entropía cruzada: 0.256\n",
            "[Iteración 719] Entropía cruzada: 0.283\n",
            "[Iteración 720] Entropía cruzada: 0.228\n",
            "[Iteración 721] Entropía cruzada: 0.296\n",
            "[Iteración 722] Entropía cruzada: 0.274\n",
            "[Iteración 723] Entropía cruzada: 0.220\n",
            "[Iteración 724] Entropía cruzada: 0.271\n",
            "[Iteración 725] Entropía cruzada: 0.237\n",
            "[Iteración 726] Entropía cruzada: 0.235\n",
            "[Iteración 727] Entropía cruzada: 0.233\n",
            "[Iteración 728] Entropía cruzada: 0.191\n",
            "[Iteración 729] Entropía cruzada: 0.215\n",
            "[Iteración 730] Entropía cruzada: 0.209\n",
            "[Iteración 731] Entropía cruzada: 0.299\n",
            "[Iteración 732] Entropía cruzada: 0.222\n",
            "[Iteración 733] Entropía cruzada: 0.236\n",
            "[Iteración 734] Entropía cruzada: 0.262\n",
            "[Iteración 735] Entropía cruzada: 0.217\n",
            "[Iteración 736] Entropía cruzada: 0.183\n",
            "[Iteración 737] Entropía cruzada: 0.208\n",
            "[Iteración 738] Entropía cruzada: 0.308\n",
            "[Iteración 739] Entropía cruzada: 0.301\n",
            "[Iteración 740] Entropía cruzada: 0.248\n",
            "[Iteración 741] Entropía cruzada: 0.233\n",
            "[Iteración 742] Entropía cruzada: 0.238\n",
            "[Iteración 743] Entropía cruzada: 0.250\n",
            "[Iteración 744] Entropía cruzada: 0.278\n",
            "[Iteración 745] Entropía cruzada: 0.255\n",
            "[Iteración 746] Entropía cruzada: 0.223\n",
            "[Iteración 747] Entropía cruzada: 0.207\n",
            "[Iteración 748] Entropía cruzada: 0.202\n",
            "[Iteración 749] Entropía cruzada: 0.263\n",
            "[Iteración 750] Entropía cruzada: 0.214\n",
            "[Iteración 751] Entropía cruzada: 0.270\n",
            "[Iteración 752] Entropía cruzada: 0.212\n",
            "[Iteración 753] Entropía cruzada: 0.266\n",
            "[Iteración 754] Entropía cruzada: 0.242\n",
            "[Iteración 755] Entropía cruzada: 0.227\n",
            "[Iteración 756] Entropía cruzada: 0.202\n",
            "[Iteración 757] Entropía cruzada: 0.229\n",
            "[Iteración 758] Entropía cruzada: 0.215\n",
            "[Iteración 759] Entropía cruzada: 0.207\n",
            "[Iteración 760] Entropía cruzada: 0.270\n",
            "[Iteración 761] Entropía cruzada: 0.197\n",
            "[Iteración 762] Entropía cruzada: 0.334\n",
            "[Iteración 763] Entropía cruzada: 0.218\n",
            "[Iteración 764] Entropía cruzada: 0.211\n",
            "[Iteración 765] Entropía cruzada: 0.182\n",
            "[Iteración 766] Entropía cruzada: 0.293\n",
            "[Iteración 767] Entropía cruzada: 0.310\n",
            "[Iteración 768] Entropía cruzada: 0.169\n",
            "[Iteración 769] Entropía cruzada: 0.246\n",
            "[Iteración 770] Entropía cruzada: 0.213\n",
            "[Iteración 771] Entropía cruzada: 0.220\n",
            "[Iteración 772] Entropía cruzada: 0.263\n",
            "[Iteración 773] Entropía cruzada: 0.264\n",
            "[Iteración 774] Entropía cruzada: 0.260\n",
            "[Iteración 775] Entropía cruzada: 0.218\n",
            "[Iteración 776] Entropía cruzada: 0.238\n",
            "[Iteración 777] Entropía cruzada: 0.251\n",
            "[Iteración 778] Entropía cruzada: 0.211\n",
            "[Iteración 779] Entropía cruzada: 0.301\n",
            "[Iteración 780] Entropía cruzada: 0.291\n",
            "[Iteración 781] Entropía cruzada: 0.219\n",
            "[Iteración 782] Entropía cruzada: 0.224\n",
            "[Iteración 783] Entropía cruzada: 0.208\n",
            "[Iteración 784] Entropía cruzada: 0.190\n",
            "[Iteración 785] Entropía cruzada: 0.264\n",
            "[Iteración 786] Entropía cruzada: 0.237\n",
            "[Iteración 787] Entropía cruzada: 0.171\n",
            "[Iteración 788] Entropía cruzada: 0.254\n",
            "[Iteración 789] Entropía cruzada: 0.263\n",
            "[Iteración 790] Entropía cruzada: 0.277\n",
            "[Iteración 791] Entropía cruzada: 0.162\n",
            "[Iteración 792] Entropía cruzada: 0.232\n",
            "[Iteración 793] Entropía cruzada: 0.280\n",
            "[Iteración 794] Entropía cruzada: 0.184\n",
            "[Iteración 795] Entropía cruzada: 0.253\n",
            "[Iteración 796] Entropía cruzada: 0.229\n",
            "[Iteración 797] Entropía cruzada: 0.223\n",
            "[Iteración 798] Entropía cruzada: 0.271\n",
            "[Iteración 799] Entropía cruzada: 0.236\n",
            "[Iteración 800] Entropía cruzada: 0.195\n",
            "[Iteración 801] Entropía cruzada: 0.186\n",
            "[Iteración 802] Entropía cruzada: 0.262\n",
            "[Iteración 803] Entropía cruzada: 0.217\n",
            "[Iteración 804] Entropía cruzada: 0.200\n",
            "[Iteración 805] Entropía cruzada: 0.259\n",
            "[Iteración 806] Entropía cruzada: 0.173\n",
            "[Iteración 807] Entropía cruzada: 0.261\n",
            "[Iteración 808] Entropía cruzada: 0.199\n",
            "[Iteración 809] Entropía cruzada: 0.222\n",
            "[Iteración 810] Entropía cruzada: 0.206\n",
            "[Iteración 811] Entropía cruzada: 0.234\n",
            "[Iteración 812] Entropía cruzada: 0.230\n",
            "[Iteración 813] Entropía cruzada: 0.235\n",
            "[Iteración 814] Entropía cruzada: 0.220\n",
            "[Iteración 815] Entropía cruzada: 0.298\n",
            "[Iteración 816] Entropía cruzada: 0.216\n",
            "[Iteración 817] Entropía cruzada: 0.204\n",
            "[Iteración 818] Entropía cruzada: 0.214\n",
            "[Iteración 819] Entropía cruzada: 0.244\n",
            "[Iteración 820] Entropía cruzada: 0.231\n",
            "[Iteración 821] Entropía cruzada: 0.201\n",
            "[Iteración 822] Entropía cruzada: 0.228\n",
            "[Iteración 823] Entropía cruzada: 0.258\n",
            "[Iteración 824] Entropía cruzada: 0.234\n",
            "[Iteración 825] Entropía cruzada: 0.273\n",
            "[Iteración 826] Entropía cruzada: 0.265\n",
            "[Iteración 827] Entropía cruzada: 0.187\n",
            "[Iteración 828] Entropía cruzada: 0.203\n",
            "[Iteración 829] Entropía cruzada: 0.218\n",
            "[Iteración 830] Entropía cruzada: 0.220\n",
            "[Iteración 831] Entropía cruzada: 0.265\n",
            "[Iteración 832] Entropía cruzada: 0.241\n",
            "[Iteración 833] Entropía cruzada: 0.205\n",
            "[Iteración 834] Entropía cruzada: 0.230\n",
            "[Iteración 835] Entropía cruzada: 0.195\n",
            "[Iteración 836] Entropía cruzada: 0.210\n",
            "[Iteración 837] Entropía cruzada: 0.232\n",
            "[Iteración 838] Entropía cruzada: 0.273\n",
            "[Iteración 839] Entropía cruzada: 0.241\n",
            "[Iteración 840] Entropía cruzada: 0.184\n",
            "[Iteración 841] Entropía cruzada: 0.276\n",
            "[Iteración 842] Entropía cruzada: 0.274\n",
            "[Iteración 843] Entropía cruzada: 0.277\n",
            "[Iteración 844] Entropía cruzada: 0.159\n",
            "[Iteración 845] Entropía cruzada: 0.219\n",
            "[Iteración 846] Entropía cruzada: 0.228\n",
            "[Iteración 847] Entropía cruzada: 0.200\n",
            "[Iteración 848] Entropía cruzada: 0.196\n",
            "[Iteración 849] Entropía cruzada: 0.221\n",
            "[Iteración 850] Entropía cruzada: 0.249\n",
            "[Iteración 851] Entropía cruzada: 0.218\n",
            "[Iteración 852] Entropía cruzada: 0.242\n",
            "[Iteración 853] Entropía cruzada: 0.248\n",
            "[Iteración 854] Entropía cruzada: 0.175\n",
            "[Iteración 855] Entropía cruzada: 0.240\n",
            "[Iteración 856] Entropía cruzada: 0.275\n",
            "[Iteración 857] Entropía cruzada: 0.219\n",
            "[Iteración 858] Entropía cruzada: 0.192\n",
            "[Iteración 859] Entropía cruzada: 0.211\n",
            "[Iteración 860] Entropía cruzada: 0.185\n",
            "[Iteración 861] Entropía cruzada: 0.275\n",
            "[Iteración 862] Entropía cruzada: 0.275\n",
            "[Iteración 863] Entropía cruzada: 0.175\n",
            "[Iteración 864] Entropía cruzada: 0.177\n",
            "[Iteración 865] Entropía cruzada: 0.240\n",
            "[Iteración 866] Entropía cruzada: 0.215\n",
            "[Iteración 867] Entropía cruzada: 0.198\n",
            "[Iteración 868] Entropía cruzada: 0.204\n",
            "[Iteración 869] Entropía cruzada: 0.184\n",
            "[Iteración 870] Entropía cruzada: 0.229\n",
            "[Iteración 871] Entropía cruzada: 0.311\n",
            "[Iteración 872] Entropía cruzada: 0.190\n",
            "[Iteración 873] Entropía cruzada: 0.205\n",
            "[Iteración 874] Entropía cruzada: 0.294\n",
            "[Iteración 875] Entropía cruzada: 0.205\n",
            "[Iteración 876] Entropía cruzada: 0.194\n",
            "[Iteración 877] Entropía cruzada: 0.239\n",
            "[Iteración 878] Entropía cruzada: 0.255\n",
            "[Iteración 879] Entropía cruzada: 0.288\n",
            "[Iteración 880] Entropía cruzada: 0.198\n",
            "[Iteración 881] Entropía cruzada: 0.241\n",
            "[Iteración 882] Entropía cruzada: 0.227\n",
            "[Iteración 883] Entropía cruzada: 0.227\n",
            "[Iteración 884] Entropía cruzada: 0.260\n",
            "[Iteración 885] Entropía cruzada: 0.258\n",
            "[Iteración 886] Entropía cruzada: 0.194\n",
            "[Iteración 887] Entropía cruzada: 0.143\n",
            "[Iteración 888] Entropía cruzada: 0.246\n",
            "[Iteración 889] Entropía cruzada: 0.210\n",
            "[Iteración 890] Entropía cruzada: 0.246\n",
            "[Iteración 891] Entropía cruzada: 0.277\n",
            "[Iteración 892] Entropía cruzada: 0.211\n",
            "[Iteración 893] Entropía cruzada: 0.228\n",
            "[Iteración 894] Entropía cruzada: 0.195\n",
            "[Iteración 895] Entropía cruzada: 0.209\n",
            "[Iteración 896] Entropía cruzada: 0.186\n",
            "[Iteración 897] Entropía cruzada: 0.239\n",
            "[Iteración 898] Entropía cruzada: 0.202\n",
            "[Iteración 899] Entropía cruzada: 0.186\n",
            "[Iteración 900] Entropía cruzada: 0.221\n",
            "[Iteración 901] Entropía cruzada: 0.207\n",
            "[Iteración 902] Entropía cruzada: 0.193\n",
            "[Iteración 903] Entropía cruzada: 0.272\n",
            "[Iteración 904] Entropía cruzada: 0.184\n",
            "[Iteración 905] Entropía cruzada: 0.224\n",
            "[Iteración 906] Entropía cruzada: 0.276\n",
            "[Iteración 907] Entropía cruzada: 0.212\n",
            "[Iteración 908] Entropía cruzada: 0.195\n",
            "[Iteración 909] Entropía cruzada: 0.203\n",
            "[Iteración 910] Entropía cruzada: 0.250\n",
            "[Iteración 911] Entropía cruzada: 0.185\n",
            "[Iteración 912] Entropía cruzada: 0.213\n",
            "[Iteración 913] Entropía cruzada: 0.201\n",
            "[Iteración 914] Entropía cruzada: 0.144\n",
            "[Iteración 915] Entropía cruzada: 0.232\n",
            "[Iteración 916] Entropía cruzada: 0.246\n",
            "[Iteración 917] Entropía cruzada: 0.202\n",
            "[Iteración 918] Entropía cruzada: 0.190\n",
            "[Iteración 919] Entropía cruzada: 0.231\n",
            "[Iteración 920] Entropía cruzada: 0.265\n",
            "[Iteración 921] Entropía cruzada: 0.203\n",
            "[Iteración 922] Entropía cruzada: 0.263\n",
            "[Iteración 923] Entropía cruzada: 0.221\n",
            "[Iteración 924] Entropía cruzada: 0.265\n",
            "[Iteración 925] Entropía cruzada: 0.222\n",
            "[Iteración 926] Entropía cruzada: 0.223\n",
            "[Iteración 927] Entropía cruzada: 0.207\n",
            "[Iteración 928] Entropía cruzada: 0.176\n",
            "[Iteración 929] Entropía cruzada: 0.217\n",
            "[Iteración 930] Entropía cruzada: 0.173\n",
            "[Iteración 931] Entropía cruzada: 0.255\n",
            "[Iteración 932] Entropía cruzada: 0.237\n",
            "[Iteración 933] Entropía cruzada: 0.220\n",
            "[Iteración 934] Entropía cruzada: 0.193\n",
            "[Iteración 935] Entropía cruzada: 0.232\n",
            "[Iteración 936] Entropía cruzada: 0.183\n",
            "[Iteración 937] Entropía cruzada: 0.237\n",
            "[Iteración 938] Entropía cruzada: 0.212\n",
            "[Iteración 939] Entropía cruzada: 0.168\n",
            "[Iteración 940] Entropía cruzada: 0.166\n",
            "[Iteración 941] Entropía cruzada: 0.317\n",
            "[Iteración 942] Entropía cruzada: 0.204\n",
            "[Iteración 943] Entropía cruzada: 0.217\n",
            "[Iteración 944] Entropía cruzada: 0.209\n",
            "[Iteración 945] Entropía cruzada: 0.194\n",
            "[Iteración 946] Entropía cruzada: 0.241\n",
            "[Iteración 947] Entropía cruzada: 0.233\n",
            "[Iteración 948] Entropía cruzada: 0.210\n",
            "[Iteración 949] Entropía cruzada: 0.197\n",
            "[Iteración 950] Entropía cruzada: 0.189\n",
            "[Iteración 951] Entropía cruzada: 0.255\n",
            "[Iteración 952] Entropía cruzada: 0.273\n",
            "[Iteración 953] Entropía cruzada: 0.196\n",
            "[Iteración 954] Entropía cruzada: 0.206\n",
            "[Iteración 955] Entropía cruzada: 0.248\n",
            "[Iteración 956] Entropía cruzada: 0.217\n",
            "[Iteración 957] Entropía cruzada: 0.193\n",
            "[Iteración 958] Entropía cruzada: 0.202\n",
            "[Iteración 959] Entropía cruzada: 0.190\n",
            "[Iteración 960] Entropía cruzada: 0.216\n",
            "[Iteración 961] Entropía cruzada: 0.138\n",
            "[Iteración 962] Entropía cruzada: 0.291\n",
            "[Iteración 963] Entropía cruzada: 0.230\n",
            "[Iteración 964] Entropía cruzada: 0.192\n",
            "[Iteración 965] Entropía cruzada: 0.258\n",
            "[Iteración 966] Entropía cruzada: 0.195\n",
            "[Iteración 967] Entropía cruzada: 0.178\n",
            "[Iteración 968] Entropía cruzada: 0.203\n",
            "[Iteración 969] Entropía cruzada: 0.174\n",
            "[Iteración 970] Entropía cruzada: 0.219\n",
            "[Iteración 971] Entropía cruzada: 0.267\n",
            "[Iteración 972] Entropía cruzada: 0.195\n",
            "[Iteración 973] Entropía cruzada: 0.192\n",
            "[Iteración 974] Entropía cruzada: 0.244\n",
            "[Iteración 975] Entropía cruzada: 0.203\n",
            "[Iteración 976] Entropía cruzada: 0.233\n",
            "[Iteración 977] Entropía cruzada: 0.199\n",
            "[Iteración 978] Entropía cruzada: 0.213\n",
            "[Iteración 979] Entropía cruzada: 0.246\n",
            "[Iteración 980] Entropía cruzada: 0.215\n",
            "[Iteración 981] Entropía cruzada: 0.176\n",
            "[Iteración 982] Entropía cruzada: 0.213\n",
            "[Iteración 983] Entropía cruzada: 0.207\n",
            "[Iteración 984] Entropía cruzada: 0.299\n",
            "[Iteración 985] Entropía cruzada: 0.227\n",
            "[Iteración 986] Entropía cruzada: 0.170\n",
            "[Iteración 987] Entropía cruzada: 0.237\n",
            "[Iteración 988] Entropía cruzada: 0.177\n",
            "[Iteración 989] Entropía cruzada: 0.208\n",
            "[Iteración 990] Entropía cruzada: 0.206\n",
            "[Iteración 991] Entropía cruzada: 0.173\n",
            "[Iteración 992] Entropía cruzada: 0.203\n",
            "[Iteración 993] Entropía cruzada: 0.196\n",
            "[Iteración 994] Entropía cruzada: 0.198\n",
            "[Iteración 995] Entropía cruzada: 0.238\n",
            "[Iteración 996] Entropía cruzada: 0.200\n",
            "[Iteración 997] Entropía cruzada: 0.178\n",
            "[Iteración 998] Entropía cruzada: 0.234\n",
            "[Iteración 999] Entropía cruzada: 0.288\n"
          ],
          "name": "stdout"
        }
      ]
    },
    {
      "metadata": {
        "id": "MN3EEeGFC4Jl",
        "colab_type": "text"
      },
      "cell_type": "markdown",
      "source": [
        "## Análisis de resultados"
      ]
    },
    {
      "metadata": {
        "id": "8hvOfWS3C4Jm",
        "colab_type": "code",
        "colab": {
          "base_uri": "https://localhost:8080/",
          "height": 68
        },
        "outputId": "18b85c90-06ba-47e1-836f-e2aa29d33634"
      },
      "cell_type": "code",
      "source": [
        "print('Valor final de los pesos: ', W)\n",
        "print('Ángulo del vector de pesos', np.arctan(W[1, 0]/W[0, 0])*180/np.pi)"
      ],
      "execution_count": 29,
      "outputs": [
        {
          "output_type": "stream",
          "text": [
            "Valor final de los pesos:  [[1.77822736]\n",
            " [3.06053695]]\n",
            "Ángulo del vector de pesos 59.84263701474146\n"
          ],
          "name": "stdout"
        }
      ]
    },
    {
      "metadata": {
        "id": "yZ0V7wj8C4J0",
        "colab_type": "text"
      },
      "cell_type": "markdown",
      "source": [
        "### Curva de aprendizaje"
      ]
    },
    {
      "metadata": {
        "id": "scTDRi7kC4J2",
        "colab_type": "code",
        "colab": {
          "base_uri": "https://localhost:8080/",
          "height": 265
        },
        "outputId": "2a311a74-a527-4eb0-99a4-9a499f968f76"
      },
      "cell_type": "code",
      "source": [
        "plt.plot(xentropy_history)\n",
        "plt.show()"
      ],
      "execution_count": 30,
      "outputs": [
        {
          "output_type": "display_data",
          "data": {
            "image/png": "[encoded data removed]",
            "text/plain": [
              "<matplotlib.figure.Figure at 0x7f562a012fd0>"
            ]
          },
          "metadata": {
            "tags": []
          }
        }
      ]
    },
    {
      "metadata": {
        "id": "cGbrBtQUC4K8",
        "colab_type": "code",
        "colab": {}
      },
      "cell_type": "code",
      "source": [
        ""
      ],
      "execution_count": 0,
      "outputs": []
    }
  ]
}